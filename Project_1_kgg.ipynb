{
 "cells": [
  {
   "cell_type": "markdown",
   "metadata": {},
   "source": [
    "# Mobility expenditure in Spain Exploration"
   ]
  },
  {
   "cell_type": "markdown",
   "metadata": {},
   "source": [
    "This  notebook tries to solve questions that could indicate a change in mobility in the last years. This is done by exploring the datasets of the Spanish household expenditure survey."
   ]
  },
  {
   "cell_type": "markdown",
   "metadata": {},
   "source": [
    "## Table of Contents\n",
    "<ol>\n",
    "<li><a href=\"#business\">Business Understanding</a></li>\n",
    "<li><a href=\"#dataunderstanding\">Data Understanding</a></li>\n",
    "<li><a href=\"#datapreparation\"> Data Preparation</a>\n",
    "    <ol>\n",
    "        <li><a href=\"#datawrangling\"> Data Wrangling</a></li>\n",
    "            <ul>\n",
    "                <li><a href=\"#gath\">Gathering</a></li>\n",
    "                <li><a href=\"#asse\">Assessing</a></li>\n",
    "                <li><a href=\"#clea\">Cleaning</a></li>\n",
    "            </ul> \n",
    "        <li><a href=\"#eda\"> Data Analysis</a></li>\n",
    "        </li>\n",
    "    </ol> \n",
    "<li><a href=\"#result\">Result Evaluation</a></li>\n",
    "<li><a href=\"#conclusions\">Conclusions</a></li>\n",
    "<li><a href=\"#Refere\">References</a></li>    \n",
    "</ol>"
   ]
  },
  {
   "cell_type": "markdown",
   "metadata": {},
   "source": [
    "<a id='business'></a>\n",
    "## 1. Business Understanding"
   ]
  },
  {
   "cell_type": "markdown",
   "metadata": {},
   "source": [
    "### Goals\n",
    "For this case study, the primary goal is to check the economic impact of new mobility trends on the transportation expenditures of Spanish people.  \n",
    "This impact will be assessed by answering the following questions:\n",
    "1. Have there been significant changes in private car ownership in the last five years?   \n",
    "    1.1 Exploration of private car purchases.  \n",
    "    1.2 Exploration of traditional fuel and alternative fuels spendings.   \n",
    "    1.3 Driving licences and private vehicle circulatory tax spendings.\n",
    "2. Are Personal Mobility Vehicles purchases on a rise?\n",
    "    2.1 Exploration of personal mobility vehicles purchases  \n",
    "3. Are combined public transportation tickets and shared options on the rise?\n",
    "    3.1 Exploration of public transportation individual and combined tickets\n",
    "    3.2 Exploratin of shared mobility options expenditures\n",
    "4. What variables correlate well with car-oriented mobility?"
   ]
  },
  {
   "cell_type": "markdown",
   "metadata": {},
   "source": [
    "<a id='dataunderstanding'></a>\n",
    "## 2. Data Understanding"
   ]
  },
  {
   "cell_type": "markdown",
   "metadata": {},
   "source": [
    "### Data collection"
   ]
  },
  {
   "cell_type": "markdown",
   "metadata": {},
   "source": [
    "These questions require to know how much of the household spendings are destinated to transportation. Also within the transportation expenses it would be interesting to know what are the transportation means employed.  \n",
    "Household budget surveys are widely spread datasets collected by many countries. They focus on households expenditures and provide a picture of living conditions of a given country.(cita eurostat hbs). These surveys could be useful to answer the questions of interest.\n",
    "\n",
    "From the wide variety of countries providing these datasets, the ones from Spain were selected to be analyzed. These could be later be compared with data already analyzed and provided by the USA as a means to see evident differences within the two countries. \n",
    "\n",
    "Data from the spanish household expenditure survey was downloaded from the National Statistics Institute. Survey results are divided in three files. The first one includes the expenditures of all families, the second describes the household and the third one provides details related to the members of the household. This study will make use of the first two.\n",
    "These datasets were included in this repository."
   ]
  },
  {
   "cell_type": "markdown",
   "metadata": {},
   "source": [
    "<a id='datapreparation'></a>\n",
    "## 3. Data Preparation"
   ]
  },
  {
   "cell_type": "markdown",
   "metadata": {},
   "source": [
    "Each data file comes with .docx documents explaining the meaning of the columns and units.  "
   ]
  },
  {
   "cell_type": "markdown",
   "metadata": {},
   "source": [
    "<a id='datawrangling'></a>\n",
    "### Data wrangling"
   ]
  },
  {
   "cell_type": "markdown",
   "metadata": {},
   "source": [
    "#### Required dependencies"
   ]
  },
  {
   "cell_type": "code",
   "execution_count": 123,
   "metadata": {},
   "outputs": [],
   "source": [
    "# Imports\n",
    "\n",
    "# data preparation and analysis \n",
    "import pandas as pd\n",
    "import numpy as np\n",
    "\n",
    "# file handling\n",
    "import requests as rd\n",
    "import zipfile\n",
    "\n",
    "# statistics\n",
    "from scipy import stats\n",
    "import random\n",
    "\n",
    "# data visualization \n",
    "import seaborn as sb\n",
    "from matplotlib import pyplot as plt\n",
    "%matplotlib inline\n",
    "import IPython.display\n",
    "from IPython.display import display, clear_output\n"
   ]
  },
  {
   "cell_type": "markdown",
   "metadata": {},
   "source": [
    "<a id='gath'></a>\n",
    "### Gathering"
   ]
  },
  {
   "cell_type": "markdown",
   "metadata": {},
   "source": [
    "As explained above each year is described in three datasets (spendings, household information and household member information).  \n",
    "For The options of creating one dataset per year would leave us with 15 dataframes which are too many; another option would be to generate three datasets with all 5 years, but then it would be difficult to get insights for specific households for specific years.  \n",
    "This is because household number is the one thing linking the three files together and they are repeated over the years. For now the option is creating three dictionaries (spendings, household information and household member information) with 5 dataframes; one per year.  "
   ]
  },
  {
   "cell_type": "code",
   "execution_count": 3,
   "metadata": {},
   "outputs": [],
   "source": [
    "# Required constants\n",
    "path2data = 'data'\n",
    "years = [2018, 2019, 2020, 2021, 2022]\n",
    "df_dict_keys = list(map(str, years))\n",
    "\n",
    "# Import data into dicts\n",
    "# Creation of expenses dataframes' dict\n",
    "dfs_ = []\n",
    "for i in range(len(df_dict_keys)):\n",
    "    file_year_zip = f\"{path2data}/EPFgastos_{years[i]}.csv.zip\"\n",
    "    file_zipfile = zipfile.ZipFile(file_year_zip)\n",
    "    df = pd.read_csv(file_zipfile.open(file_year_zip[5:-4]), sep='\\t', low_memory=False)\n",
    "    dfs_.append(df)\n",
    "dict_df_EPF_all_expenses = dict(zip(df_dict_keys, dfs_))"
   ]
  },
  {
   "cell_type": "code",
   "execution_count": 4,
   "metadata": {},
   "outputs": [],
   "source": [
    "# Creation of households dataframes' dict\n",
    "dfs_households = []\n",
    "for i in range(len(df_dict_keys)):\n",
    "    df = pd.read_csv(f\"{path2data}/EPFhogar_{years[i]}.csv\", sep='\\t', low_memory=False)\n",
    "    dfs_households.append(df)\n",
    "dict_df_EPF_all_households = dict(zip(df_dict_keys, dfs_households))"
   ]
  },
  {
   "cell_type": "code",
   "execution_count": 5,
   "metadata": {},
   "outputs": [],
   "source": [
    "# Creation of household member information dataframes' dict\n",
    "dfs_membersHouseholds = []\n",
    "for i in range(len(df_dict_keys)):\n",
    "    df = pd.read_csv(f\"{path2data}/EPFmhogar_{years[i]}.csv\", sep='\\t', low_memory=False)\n",
    "    dfs_membersHouseholds.append(df)\n",
    "dict_df_EPF_all_memberHouseholds = dict(zip(df_dict_keys, dfs_membersHouseholds))"
   ]
  },
  {
   "cell_type": "markdown",
   "metadata": {},
   "source": [
    "> The datasets are inspected to make sure the dictionaries were created correctly."
   ]
  },
  {
   "cell_type": "code",
   "execution_count": 6,
   "metadata": {},
   "outputs": [
    {
     "data": {
      "text/html": [
       "<div>\n",
       "<style scoped>\n",
       "    .dataframe tbody tr th:only-of-type {\n",
       "        vertical-align: middle;\n",
       "    }\n",
       "\n",
       "    .dataframe tbody tr th {\n",
       "        vertical-align: top;\n",
       "    }\n",
       "\n",
       "    .dataframe thead th {\n",
       "        text-align: right;\n",
       "    }\n",
       "</style>\n",
       "<table border=\"1\" class=\"dataframe\">\n",
       "  <thead>\n",
       "    <tr style=\"text-align: right;\">\n",
       "      <th></th>\n",
       "      <th>ANOENC</th>\n",
       "      <th>NUMERO</th>\n",
       "      <th>CODIGO</th>\n",
       "      <th>GASTO</th>\n",
       "      <th>PORCENDES</th>\n",
       "      <th>PORCENIMP</th>\n",
       "      <th>CANTIDAD</th>\n",
       "      <th>GASTOMON</th>\n",
       "      <th>GASTNOM1</th>\n",
       "      <th>GASTNOM2</th>\n",
       "      <th>GASTNOM3</th>\n",
       "      <th>GASTNOM4</th>\n",
       "      <th>GASTNOM5</th>\n",
       "      <th>FACTOR</th>\n",
       "    </tr>\n",
       "  </thead>\n",
       "  <tbody>\n",
       "    <tr>\n",
       "      <th>0</th>\n",
       "      <td>2019</td>\n",
       "      <td>1</td>\n",
       "      <td>01111</td>\n",
       "      <td>28314.98</td>\n",
       "      <td>0.0</td>\n",
       "      <td>0.0</td>\n",
       "      <td>37127.76</td>\n",
       "      <td>28314.98</td>\n",
       "      <td>NaN</td>\n",
       "      <td>NaN</td>\n",
       "      <td>NaN</td>\n",
       "      <td>NaN</td>\n",
       "      <td>NaN</td>\n",
       "      <td>1294.618356</td>\n",
       "    </tr>\n",
       "    <tr>\n",
       "      <th>1</th>\n",
       "      <td>2019</td>\n",
       "      <td>1</td>\n",
       "      <td>01113</td>\n",
       "      <td>372283.47</td>\n",
       "      <td>0.0</td>\n",
       "      <td>0.0</td>\n",
       "      <td>256519.10</td>\n",
       "      <td>372283.47</td>\n",
       "      <td>NaN</td>\n",
       "      <td>NaN</td>\n",
       "      <td>NaN</td>\n",
       "      <td>NaN</td>\n",
       "      <td>NaN</td>\n",
       "      <td>1294.618356</td>\n",
       "    </tr>\n",
       "    <tr>\n",
       "      <th>2</th>\n",
       "      <td>2019</td>\n",
       "      <td>1</td>\n",
       "      <td>01114</td>\n",
       "      <td>35484.02</td>\n",
       "      <td>0.0</td>\n",
       "      <td>0.0</td>\n",
       "      <td>27002.01</td>\n",
       "      <td>35484.02</td>\n",
       "      <td>NaN</td>\n",
       "      <td>NaN</td>\n",
       "      <td>NaN</td>\n",
       "      <td>NaN</td>\n",
       "      <td>NaN</td>\n",
       "      <td>1294.618356</td>\n",
       "    </tr>\n",
       "    <tr>\n",
       "      <th>3</th>\n",
       "      <td>2019</td>\n",
       "      <td>1</td>\n",
       "      <td>01118</td>\n",
       "      <td>82437.14</td>\n",
       "      <td>0.0</td>\n",
       "      <td>0.0</td>\n",
       "      <td>10125.75</td>\n",
       "      <td>82437.14</td>\n",
       "      <td>NaN</td>\n",
       "      <td>NaN</td>\n",
       "      <td>NaN</td>\n",
       "      <td>NaN</td>\n",
       "      <td>NaN</td>\n",
       "      <td>1294.618356</td>\n",
       "    </tr>\n",
       "    <tr>\n",
       "      <th>4</th>\n",
       "      <td>2019</td>\n",
       "      <td>1</td>\n",
       "      <td>01122</td>\n",
       "      <td>293370.09</td>\n",
       "      <td>0.0</td>\n",
       "      <td>0.0</td>\n",
       "      <td>91131.79</td>\n",
       "      <td>293370.09</td>\n",
       "      <td>NaN</td>\n",
       "      <td>NaN</td>\n",
       "      <td>NaN</td>\n",
       "      <td>NaN</td>\n",
       "      <td>NaN</td>\n",
       "      <td>1294.618356</td>\n",
       "    </tr>\n",
       "    <tr>\n",
       "      <th>...</th>\n",
       "      <td>...</td>\n",
       "      <td>...</td>\n",
       "      <td>...</td>\n",
       "      <td>...</td>\n",
       "      <td>...</td>\n",
       "      <td>...</td>\n",
       "      <td>...</td>\n",
       "      <td>...</td>\n",
       "      <td>...</td>\n",
       "      <td>...</td>\n",
       "      <td>...</td>\n",
       "      <td>...</td>\n",
       "      <td>...</td>\n",
       "      <td>...</td>\n",
       "    </tr>\n",
       "    <tr>\n",
       "      <th>1889673</th>\n",
       "      <td>2019</td>\n",
       "      <td>20817</td>\n",
       "      <td>12111</td>\n",
       "      <td>3634.29</td>\n",
       "      <td>0.0</td>\n",
       "      <td>100.0</td>\n",
       "      <td>NaN</td>\n",
       "      <td>3634.29</td>\n",
       "      <td>NaN</td>\n",
       "      <td>NaN</td>\n",
       "      <td>NaN</td>\n",
       "      <td>NaN</td>\n",
       "      <td>NaN</td>\n",
       "      <td>534.816259</td>\n",
       "    </tr>\n",
       "    <tr>\n",
       "      <th>1889674</th>\n",
       "      <td>2019</td>\n",
       "      <td>20817</td>\n",
       "      <td>12521</td>\n",
       "      <td>128355.90</td>\n",
       "      <td>0.0</td>\n",
       "      <td>0.0</td>\n",
       "      <td>NaN</td>\n",
       "      <td>128355.90</td>\n",
       "      <td>NaN</td>\n",
       "      <td>NaN</td>\n",
       "      <td>NaN</td>\n",
       "      <td>NaN</td>\n",
       "      <td>NaN</td>\n",
       "      <td>534.816259</td>\n",
       "    </tr>\n",
       "    <tr>\n",
       "      <th>1889675</th>\n",
       "      <td>2019</td>\n",
       "      <td>20817</td>\n",
       "      <td>12541</td>\n",
       "      <td>248689.56</td>\n",
       "      <td>0.0</td>\n",
       "      <td>0.0</td>\n",
       "      <td>NaN</td>\n",
       "      <td>248689.56</td>\n",
       "      <td>NaN</td>\n",
       "      <td>NaN</td>\n",
       "      <td>NaN</td>\n",
       "      <td>NaN</td>\n",
       "      <td>NaN</td>\n",
       "      <td>534.816259</td>\n",
       "    </tr>\n",
       "    <tr>\n",
       "      <th>1889676</th>\n",
       "      <td>2019</td>\n",
       "      <td>20817</td>\n",
       "      <td>12704</td>\n",
       "      <td>411.43</td>\n",
       "      <td>0.0</td>\n",
       "      <td>100.0</td>\n",
       "      <td>NaN</td>\n",
       "      <td>411.43</td>\n",
       "      <td>NaN</td>\n",
       "      <td>NaN</td>\n",
       "      <td>NaN</td>\n",
       "      <td>NaN</td>\n",
       "      <td>NaN</td>\n",
       "      <td>534.816259</td>\n",
       "    </tr>\n",
       "    <tr>\n",
       "      <th>1889677</th>\n",
       "      <td>2019</td>\n",
       "      <td>20817</td>\n",
       "      <td>12810</td>\n",
       "      <td>3451.70</td>\n",
       "      <td>0.0</td>\n",
       "      <td>100.0</td>\n",
       "      <td>NaN</td>\n",
       "      <td>3451.70</td>\n",
       "      <td>NaN</td>\n",
       "      <td>NaN</td>\n",
       "      <td>NaN</td>\n",
       "      <td>NaN</td>\n",
       "      <td>NaN</td>\n",
       "      <td>534.816259</td>\n",
       "    </tr>\n",
       "  </tbody>\n",
       "</table>\n",
       "<p>1889678 rows × 14 columns</p>\n",
       "</div>"
      ],
      "text/plain": [
       "         ANOENC  NUMERO CODIGO      GASTO  PORCENDES  PORCENIMP   CANTIDAD  \\\n",
       "0          2019       1  01111   28314.98        0.0        0.0   37127.76   \n",
       "1          2019       1  01113  372283.47        0.0        0.0  256519.10   \n",
       "2          2019       1  01114   35484.02        0.0        0.0   27002.01   \n",
       "3          2019       1  01118   82437.14        0.0        0.0   10125.75   \n",
       "4          2019       1  01122  293370.09        0.0        0.0   91131.79   \n",
       "...         ...     ...    ...        ...        ...        ...        ...   \n",
       "1889673    2019   20817  12111    3634.29        0.0      100.0        NaN   \n",
       "1889674    2019   20817  12521  128355.90        0.0        0.0        NaN   \n",
       "1889675    2019   20817  12541  248689.56        0.0        0.0        NaN   \n",
       "1889676    2019   20817  12704     411.43        0.0      100.0        NaN   \n",
       "1889677    2019   20817  12810    3451.70        0.0      100.0        NaN   \n",
       "\n",
       "          GASTOMON  GASTNOM1  GASTNOM2  GASTNOM3  GASTNOM4  GASTNOM5  \\\n",
       "0         28314.98       NaN       NaN       NaN       NaN       NaN   \n",
       "1        372283.47       NaN       NaN       NaN       NaN       NaN   \n",
       "2         35484.02       NaN       NaN       NaN       NaN       NaN   \n",
       "3         82437.14       NaN       NaN       NaN       NaN       NaN   \n",
       "4        293370.09       NaN       NaN       NaN       NaN       NaN   \n",
       "...            ...       ...       ...       ...       ...       ...   \n",
       "1889673    3634.29       NaN       NaN       NaN       NaN       NaN   \n",
       "1889674  128355.90       NaN       NaN       NaN       NaN       NaN   \n",
       "1889675  248689.56       NaN       NaN       NaN       NaN       NaN   \n",
       "1889676     411.43       NaN       NaN       NaN       NaN       NaN   \n",
       "1889677    3451.70       NaN       NaN       NaN       NaN       NaN   \n",
       "\n",
       "              FACTOR  \n",
       "0        1294.618356  \n",
       "1        1294.618356  \n",
       "2        1294.618356  \n",
       "3        1294.618356  \n",
       "4        1294.618356  \n",
       "...              ...  \n",
       "1889673   534.816259  \n",
       "1889674   534.816259  \n",
       "1889675   534.816259  \n",
       "1889676   534.816259  \n",
       "1889677   534.816259  \n",
       "\n",
       "[1889678 rows x 14 columns]"
      ]
     },
     "execution_count": 6,
     "metadata": {},
     "output_type": "execute_result"
    }
   ],
   "source": [
    "dict_df_EPF_all_expenses['2019']"
   ]
  },
  {
   "cell_type": "code",
   "execution_count": 7,
   "metadata": {},
   "outputs": [
    {
     "data": {
      "text/html": [
       "<div>\n",
       "<style scoped>\n",
       "    .dataframe tbody tr th:only-of-type {\n",
       "        vertical-align: middle;\n",
       "    }\n",
       "\n",
       "    .dataframe tbody tr th {\n",
       "        vertical-align: top;\n",
       "    }\n",
       "\n",
       "    .dataframe thead th {\n",
       "        text-align: right;\n",
       "    }\n",
       "</style>\n",
       "<table border=\"1\" class=\"dataframe\">\n",
       "  <thead>\n",
       "    <tr style=\"text-align: right;\">\n",
       "      <th></th>\n",
       "      <th>ANOENC</th>\n",
       "      <th>NUMERO</th>\n",
       "      <th>CCAA</th>\n",
       "      <th>NUTS1</th>\n",
       "      <th>CAPROV</th>\n",
       "      <th>TAMAMU</th>\n",
       "      <th>DENSIDAD</th>\n",
       "      <th>CLAVE</th>\n",
       "      <th>CLATEO</th>\n",
       "      <th>FACTOR</th>\n",
       "      <th>...</th>\n",
       "      <th>FUENPRIN</th>\n",
       "      <th>FUENPRINRED</th>\n",
       "      <th>IMPEXAC</th>\n",
       "      <th>INTERIN</th>\n",
       "      <th>NUMPERI</th>\n",
       "      <th>COMIMH</th>\n",
       "      <th>COMISD</th>\n",
       "      <th>COMIHU</th>\n",
       "      <th>COMIINV</th>\n",
       "      <th>COMITOT</th>\n",
       "    </tr>\n",
       "  </thead>\n",
       "  <tbody>\n",
       "    <tr>\n",
       "      <th>0</th>\n",
       "      <td>2020</td>\n",
       "      <td>1</td>\n",
       "      <td>12</td>\n",
       "      <td>1</td>\n",
       "      <td>6</td>\n",
       "      <td>3</td>\n",
       "      <td>3</td>\n",
       "      <td>1</td>\n",
       "      <td>1</td>\n",
       "      <td>1593.985745</td>\n",
       "      <td>...</td>\n",
       "      <td>2</td>\n",
       "      <td>2</td>\n",
       "      <td>2726</td>\n",
       "      <td>6</td>\n",
       "      <td>2</td>\n",
       "      <td>56</td>\n",
       "      <td>0</td>\n",
       "      <td>0</td>\n",
       "      <td>0</td>\n",
       "      <td>56</td>\n",
       "    </tr>\n",
       "    <tr>\n",
       "      <th>1</th>\n",
       "      <td>2020</td>\n",
       "      <td>2</td>\n",
       "      <td>5</td>\n",
       "      <td>7</td>\n",
       "      <td>1</td>\n",
       "      <td>1</td>\n",
       "      <td>1</td>\n",
       "      <td>1</td>\n",
       "      <td>1</td>\n",
       "      <td>259.167031</td>\n",
       "      <td>...</td>\n",
       "      <td>1</td>\n",
       "      <td>1</td>\n",
       "      <td>4998</td>\n",
       "      <td>7</td>\n",
       "      <td>2</td>\n",
       "      <td>60</td>\n",
       "      <td>0</td>\n",
       "      <td>0</td>\n",
       "      <td>0</td>\n",
       "      <td>60</td>\n",
       "    </tr>\n",
       "    <tr>\n",
       "      <th>2</th>\n",
       "      <td>2020</td>\n",
       "      <td>3</td>\n",
       "      <td>5</td>\n",
       "      <td>7</td>\n",
       "      <td>1</td>\n",
       "      <td>1</td>\n",
       "      <td>1</td>\n",
       "      <td>1</td>\n",
       "      <td>1</td>\n",
       "      <td>529.688667</td>\n",
       "      <td>...</td>\n",
       "      <td>3</td>\n",
       "      <td>3</td>\n",
       "      <td>1245</td>\n",
       "      <td>3</td>\n",
       "      <td>2</td>\n",
       "      <td>56</td>\n",
       "      <td>0</td>\n",
       "      <td>0</td>\n",
       "      <td>0</td>\n",
       "      <td>56</td>\n",
       "    </tr>\n",
       "    <tr>\n",
       "      <th>3</th>\n",
       "      <td>2020</td>\n",
       "      <td>4</td>\n",
       "      <td>10</td>\n",
       "      <td>5</td>\n",
       "      <td>6</td>\n",
       "      <td>3</td>\n",
       "      <td>2</td>\n",
       "      <td>2</td>\n",
       "      <td>2</td>\n",
       "      <td>1034.909802</td>\n",
       "      <td>...</td>\n",
       "      <td>3</td>\n",
       "      <td>3</td>\n",
       "      <td>3106</td>\n",
       "      <td>7</td>\n",
       "      <td>2</td>\n",
       "      <td>54</td>\n",
       "      <td>0</td>\n",
       "      <td>0</td>\n",
       "      <td>0</td>\n",
       "      <td>54</td>\n",
       "    </tr>\n",
       "    <tr>\n",
       "      <th>4</th>\n",
       "      <td>2020</td>\n",
       "      <td>5</td>\n",
       "      <td>16</td>\n",
       "      <td>2</td>\n",
       "      <td>6</td>\n",
       "      <td>2</td>\n",
       "      <td>1</td>\n",
       "      <td>2</td>\n",
       "      <td>2</td>\n",
       "      <td>371.914654</td>\n",
       "      <td>...</td>\n",
       "      <td>4</td>\n",
       "      <td>3</td>\n",
       "      <td>1250</td>\n",
       "      <td>3</td>\n",
       "      <td>1</td>\n",
       "      <td>112</td>\n",
       "      <td>0</td>\n",
       "      <td>0</td>\n",
       "      <td>0</td>\n",
       "      <td>112</td>\n",
       "    </tr>\n",
       "    <tr>\n",
       "      <th>...</th>\n",
       "      <td>...</td>\n",
       "      <td>...</td>\n",
       "      <td>...</td>\n",
       "      <td>...</td>\n",
       "      <td>...</td>\n",
       "      <td>...</td>\n",
       "      <td>...</td>\n",
       "      <td>...</td>\n",
       "      <td>...</td>\n",
       "      <td>...</td>\n",
       "      <td>...</td>\n",
       "      <td>...</td>\n",
       "      <td>...</td>\n",
       "      <td>...</td>\n",
       "      <td>...</td>\n",
       "      <td>...</td>\n",
       "      <td>...</td>\n",
       "      <td>...</td>\n",
       "      <td>...</td>\n",
       "      <td>...</td>\n",
       "      <td>...</td>\n",
       "    </tr>\n",
       "    <tr>\n",
       "      <th>19165</th>\n",
       "      <td>2020</td>\n",
       "      <td>19166</td>\n",
       "      <td>7</td>\n",
       "      <td>4</td>\n",
       "      <td>6</td>\n",
       "      <td>5</td>\n",
       "      <td>3</td>\n",
       "      <td>1</td>\n",
       "      <td>1</td>\n",
       "      <td>580.026322</td>\n",
       "      <td>...</td>\n",
       "      <td>3</td>\n",
       "      <td>3</td>\n",
       "      <td>2185</td>\n",
       "      <td>5</td>\n",
       "      <td>1</td>\n",
       "      <td>56</td>\n",
       "      <td>0</td>\n",
       "      <td>0</td>\n",
       "      <td>0</td>\n",
       "      <td>56</td>\n",
       "    </tr>\n",
       "    <tr>\n",
       "      <th>19166</th>\n",
       "      <td>2020</td>\n",
       "      <td>19167</td>\n",
       "      <td>9</td>\n",
       "      <td>5</td>\n",
       "      <td>6</td>\n",
       "      <td>5</td>\n",
       "      <td>3</td>\n",
       "      <td>2</td>\n",
       "      <td>2</td>\n",
       "      <td>2578.309998</td>\n",
       "      <td>...</td>\n",
       "      <td>2</td>\n",
       "      <td>2</td>\n",
       "      <td>2200</td>\n",
       "      <td>5</td>\n",
       "      <td>1</td>\n",
       "      <td>112</td>\n",
       "      <td>0</td>\n",
       "      <td>0</td>\n",
       "      <td>0</td>\n",
       "      <td>112</td>\n",
       "    </tr>\n",
       "    <tr>\n",
       "      <th>19167</th>\n",
       "      <td>2020</td>\n",
       "      <td>19168</td>\n",
       "      <td>9</td>\n",
       "      <td>5</td>\n",
       "      <td>6</td>\n",
       "      <td>5</td>\n",
       "      <td>3</td>\n",
       "      <td>2</td>\n",
       "      <td>2</td>\n",
       "      <td>1846.706676</td>\n",
       "      <td>...</td>\n",
       "      <td>1</td>\n",
       "      <td>1</td>\n",
       "      <td>2215</td>\n",
       "      <td>5</td>\n",
       "      <td>2</td>\n",
       "      <td>81</td>\n",
       "      <td>0</td>\n",
       "      <td>0</td>\n",
       "      <td>0</td>\n",
       "      <td>81</td>\n",
       "    </tr>\n",
       "    <tr>\n",
       "      <th>19168</th>\n",
       "      <td>2020</td>\n",
       "      <td>19169</td>\n",
       "      <td>10</td>\n",
       "      <td>5</td>\n",
       "      <td>6</td>\n",
       "      <td>3</td>\n",
       "      <td>2</td>\n",
       "      <td>2</td>\n",
       "      <td>2</td>\n",
       "      <td>1571.709414</td>\n",
       "      <td>...</td>\n",
       "      <td>3</td>\n",
       "      <td>3</td>\n",
       "      <td>1365</td>\n",
       "      <td>3</td>\n",
       "      <td>1</td>\n",
       "      <td>28</td>\n",
       "      <td>0</td>\n",
       "      <td>0</td>\n",
       "      <td>0</td>\n",
       "      <td>28</td>\n",
       "    </tr>\n",
       "    <tr>\n",
       "      <th>19169</th>\n",
       "      <td>2020</td>\n",
       "      <td>19170</td>\n",
       "      <td>7</td>\n",
       "      <td>4</td>\n",
       "      <td>1</td>\n",
       "      <td>1</td>\n",
       "      <td>1</td>\n",
       "      <td>1</td>\n",
       "      <td>2</td>\n",
       "      <td>1663.797365</td>\n",
       "      <td>...</td>\n",
       "      <td>1</td>\n",
       "      <td>1</td>\n",
       "      <td>2715</td>\n",
       "      <td>6</td>\n",
       "      <td>1</td>\n",
       "      <td>20</td>\n",
       "      <td>0</td>\n",
       "      <td>0</td>\n",
       "      <td>0</td>\n",
       "      <td>20</td>\n",
       "    </tr>\n",
       "  </tbody>\n",
       "</table>\n",
       "<p>19170 rows × 188 columns</p>\n",
       "</div>"
      ],
      "text/plain": [
       "       ANOENC  NUMERO  CCAA  NUTS1  CAPROV  TAMAMU  DENSIDAD  CLAVE  CLATEO  \\\n",
       "0        2020       1    12      1       6       3         3      1       1   \n",
       "1        2020       2     5      7       1       1         1      1       1   \n",
       "2        2020       3     5      7       1       1         1      1       1   \n",
       "3        2020       4    10      5       6       3         2      2       2   \n",
       "4        2020       5    16      2       6       2         1      2       2   \n",
       "...       ...     ...   ...    ...     ...     ...       ...    ...     ...   \n",
       "19165    2020   19166     7      4       6       5         3      1       1   \n",
       "19166    2020   19167     9      5       6       5         3      2       2   \n",
       "19167    2020   19168     9      5       6       5         3      2       2   \n",
       "19168    2020   19169    10      5       6       3         2      2       2   \n",
       "19169    2020   19170     7      4       1       1         1      1       2   \n",
       "\n",
       "            FACTOR  ...  FUENPRIN  FUENPRINRED  IMPEXAC  INTERIN  NUMPERI  \\\n",
       "0      1593.985745  ...         2            2     2726        6        2   \n",
       "1       259.167031  ...         1            1     4998        7        2   \n",
       "2       529.688667  ...         3            3     1245        3        2   \n",
       "3      1034.909802  ...         3            3     3106        7        2   \n",
       "4       371.914654  ...         4            3     1250        3        1   \n",
       "...            ...  ...       ...          ...      ...      ...      ...   \n",
       "19165   580.026322  ...         3            3     2185        5        1   \n",
       "19166  2578.309998  ...         2            2     2200        5        1   \n",
       "19167  1846.706676  ...         1            1     2215        5        2   \n",
       "19168  1571.709414  ...         3            3     1365        3        1   \n",
       "19169  1663.797365  ...         1            1     2715        6        1   \n",
       "\n",
       "       COMIMH  COMISD  COMIHU  COMIINV  COMITOT  \n",
       "0          56       0       0        0       56  \n",
       "1          60       0       0        0       60  \n",
       "2          56       0       0        0       56  \n",
       "3          54       0       0        0       54  \n",
       "4         112       0       0        0      112  \n",
       "...       ...     ...     ...      ...      ...  \n",
       "19165      56       0       0        0       56  \n",
       "19166     112       0       0        0      112  \n",
       "19167      81       0       0        0       81  \n",
       "19168      28       0       0        0       28  \n",
       "19169      20       0       0        0       20  \n",
       "\n",
       "[19170 rows x 188 columns]"
      ]
     },
     "execution_count": 7,
     "metadata": {},
     "output_type": "execute_result"
    }
   ],
   "source": [
    "dict_df_EPF_all_households['2020']"
   ]
  },
  {
   "cell_type": "code",
   "execution_count": 8,
   "metadata": {},
   "outputs": [
    {
     "data": {
      "text/html": [
       "<div>\n",
       "<style scoped>\n",
       "    .dataframe tbody tr th:only-of-type {\n",
       "        vertical-align: middle;\n",
       "    }\n",
       "\n",
       "    .dataframe tbody tr th {\n",
       "        vertical-align: top;\n",
       "    }\n",
       "\n",
       "    .dataframe thead th {\n",
       "        text-align: right;\n",
       "    }\n",
       "</style>\n",
       "<table border=\"1\" class=\"dataframe\">\n",
       "  <thead>\n",
       "    <tr style=\"text-align: right;\">\n",
       "      <th></th>\n",
       "      <th>ANOENC</th>\n",
       "      <th>NUMERO</th>\n",
       "      <th>NORDEN</th>\n",
       "      <th>CATEGMH</th>\n",
       "      <th>SUSPRIN</th>\n",
       "      <th>RELASP</th>\n",
       "      <th>EDAD</th>\n",
       "      <th>SEXO</th>\n",
       "      <th>PAISNACIM</th>\n",
       "      <th>NACIONA</th>\n",
       "      <th>...</th>\n",
       "      <th>SITURED</th>\n",
       "      <th>OCU</th>\n",
       "      <th>JORNADA</th>\n",
       "      <th>PERCEP</th>\n",
       "      <th>IMPEXACP</th>\n",
       "      <th>INTERINP</th>\n",
       "      <th>NINODEP</th>\n",
       "      <th>HIJODEP</th>\n",
       "      <th>ADULTO</th>\n",
       "      <th>FACTOR</th>\n",
       "    </tr>\n",
       "  </thead>\n",
       "  <tbody>\n",
       "    <tr>\n",
       "      <th>0</th>\n",
       "      <td>2019</td>\n",
       "      <td>1</td>\n",
       "      <td>1</td>\n",
       "      <td>1</td>\n",
       "      <td>1</td>\n",
       "      <td>1</td>\n",
       "      <td>56</td>\n",
       "      <td>6</td>\n",
       "      <td>1</td>\n",
       "      <td>1</td>\n",
       "      <td>...</td>\n",
       "      <td>1</td>\n",
       "      <td>1</td>\n",
       "      <td>1</td>\n",
       "      <td>1</td>\n",
       "      <td>-9.0</td>\n",
       "      <td>03</td>\n",
       "      <td>6</td>\n",
       "      <td>6</td>\n",
       "      <td>1</td>\n",
       "      <td>1294.618356</td>\n",
       "    </tr>\n",
       "    <tr>\n",
       "      <th>1</th>\n",
       "      <td>2019</td>\n",
       "      <td>1</td>\n",
       "      <td>2</td>\n",
       "      <td>1</td>\n",
       "      <td>6</td>\n",
       "      <td>2</td>\n",
       "      <td>64</td>\n",
       "      <td>1</td>\n",
       "      <td>1</td>\n",
       "      <td>1</td>\n",
       "      <td>...</td>\n",
       "      <td>2</td>\n",
       "      <td>2</td>\n",
       "      <td></td>\n",
       "      <td>1</td>\n",
       "      <td>-9.0</td>\n",
       "      <td>02</td>\n",
       "      <td>6</td>\n",
       "      <td>6</td>\n",
       "      <td>1</td>\n",
       "      <td>1294.618356</td>\n",
       "    </tr>\n",
       "    <tr>\n",
       "      <th>2</th>\n",
       "      <td>2019</td>\n",
       "      <td>1</td>\n",
       "      <td>3</td>\n",
       "      <td>1</td>\n",
       "      <td>6</td>\n",
       "      <td>3</td>\n",
       "      <td>27</td>\n",
       "      <td>1</td>\n",
       "      <td>1</td>\n",
       "      <td>1</td>\n",
       "      <td>...</td>\n",
       "      <td>2</td>\n",
       "      <td>2</td>\n",
       "      <td></td>\n",
       "      <td>6</td>\n",
       "      <td>NaN</td>\n",
       "      <td></td>\n",
       "      <td>6</td>\n",
       "      <td>6</td>\n",
       "      <td>1</td>\n",
       "      <td>1294.618356</td>\n",
       "    </tr>\n",
       "    <tr>\n",
       "      <th>3</th>\n",
       "      <td>2019</td>\n",
       "      <td>2</td>\n",
       "      <td>1</td>\n",
       "      <td>1</td>\n",
       "      <td>1</td>\n",
       "      <td>1</td>\n",
       "      <td>69</td>\n",
       "      <td>1</td>\n",
       "      <td>1</td>\n",
       "      <td>1</td>\n",
       "      <td>...</td>\n",
       "      <td>2</td>\n",
       "      <td>2</td>\n",
       "      <td></td>\n",
       "      <td>1</td>\n",
       "      <td>-9.0</td>\n",
       "      <td>05</td>\n",
       "      <td>6</td>\n",
       "      <td>6</td>\n",
       "      <td>1</td>\n",
       "      <td>1569.018845</td>\n",
       "    </tr>\n",
       "    <tr>\n",
       "      <th>4</th>\n",
       "      <td>2019</td>\n",
       "      <td>3</td>\n",
       "      <td>1</td>\n",
       "      <td>1</td>\n",
       "      <td>1</td>\n",
       "      <td>1</td>\n",
       "      <td>66</td>\n",
       "      <td>6</td>\n",
       "      <td>1</td>\n",
       "      <td>1</td>\n",
       "      <td>...</td>\n",
       "      <td>2</td>\n",
       "      <td>2</td>\n",
       "      <td></td>\n",
       "      <td>1</td>\n",
       "      <td>558.0</td>\n",
       "      <td>02</td>\n",
       "      <td>6</td>\n",
       "      <td>6</td>\n",
       "      <td>1</td>\n",
       "      <td>332.468410</td>\n",
       "    </tr>\n",
       "    <tr>\n",
       "      <th>...</th>\n",
       "      <td>...</td>\n",
       "      <td>...</td>\n",
       "      <td>...</td>\n",
       "      <td>...</td>\n",
       "      <td>...</td>\n",
       "      <td>...</td>\n",
       "      <td>...</td>\n",
       "      <td>...</td>\n",
       "      <td>...</td>\n",
       "      <td>...</td>\n",
       "      <td>...</td>\n",
       "      <td>...</td>\n",
       "      <td>...</td>\n",
       "      <td>...</td>\n",
       "      <td>...</td>\n",
       "      <td>...</td>\n",
       "      <td>...</td>\n",
       "      <td>...</td>\n",
       "      <td>...</td>\n",
       "      <td>...</td>\n",
       "      <td>...</td>\n",
       "    </tr>\n",
       "    <tr>\n",
       "      <th>54032</th>\n",
       "      <td>2019</td>\n",
       "      <td>20816</td>\n",
       "      <td>4</td>\n",
       "      <td>1</td>\n",
       "      <td>6</td>\n",
       "      <td>3</td>\n",
       "      <td>10</td>\n",
       "      <td>1</td>\n",
       "      <td>1</td>\n",
       "      <td>1</td>\n",
       "      <td>...</td>\n",
       "      <td></td>\n",
       "      <td></td>\n",
       "      <td></td>\n",
       "      <td>6</td>\n",
       "      <td>NaN</td>\n",
       "      <td></td>\n",
       "      <td>1</td>\n",
       "      <td>1</td>\n",
       "      <td>6</td>\n",
       "      <td>371.083222</td>\n",
       "    </tr>\n",
       "    <tr>\n",
       "      <th>54033</th>\n",
       "      <td>2019</td>\n",
       "      <td>20816</td>\n",
       "      <td>5</td>\n",
       "      <td>1</td>\n",
       "      <td>6</td>\n",
       "      <td>3</td>\n",
       "      <td>3</td>\n",
       "      <td>6</td>\n",
       "      <td>1</td>\n",
       "      <td>1</td>\n",
       "      <td>...</td>\n",
       "      <td></td>\n",
       "      <td></td>\n",
       "      <td></td>\n",
       "      <td>6</td>\n",
       "      <td>NaN</td>\n",
       "      <td></td>\n",
       "      <td>1</td>\n",
       "      <td>1</td>\n",
       "      <td>6</td>\n",
       "      <td>371.083222</td>\n",
       "    </tr>\n",
       "    <tr>\n",
       "      <th>54034</th>\n",
       "      <td>2019</td>\n",
       "      <td>20817</td>\n",
       "      <td>1</td>\n",
       "      <td>1</td>\n",
       "      <td>1</td>\n",
       "      <td>1</td>\n",
       "      <td>72</td>\n",
       "      <td>1</td>\n",
       "      <td>1</td>\n",
       "      <td>1</td>\n",
       "      <td>...</td>\n",
       "      <td>2</td>\n",
       "      <td>2</td>\n",
       "      <td></td>\n",
       "      <td>1</td>\n",
       "      <td>-9.0</td>\n",
       "      <td>02</td>\n",
       "      <td>6</td>\n",
       "      <td>6</td>\n",
       "      <td>1</td>\n",
       "      <td>534.816259</td>\n",
       "    </tr>\n",
       "    <tr>\n",
       "      <th>54035</th>\n",
       "      <td>2019</td>\n",
       "      <td>20817</td>\n",
       "      <td>2</td>\n",
       "      <td>1</td>\n",
       "      <td>6</td>\n",
       "      <td>2</td>\n",
       "      <td>67</td>\n",
       "      <td>6</td>\n",
       "      <td>1</td>\n",
       "      <td>1</td>\n",
       "      <td>...</td>\n",
       "      <td>2</td>\n",
       "      <td>2</td>\n",
       "      <td></td>\n",
       "      <td>6</td>\n",
       "      <td>NaN</td>\n",
       "      <td></td>\n",
       "      <td>6</td>\n",
       "      <td>6</td>\n",
       "      <td>1</td>\n",
       "      <td>534.816259</td>\n",
       "    </tr>\n",
       "    <tr>\n",
       "      <th>54036</th>\n",
       "      <td>2019</td>\n",
       "      <td>20817</td>\n",
       "      <td>3</td>\n",
       "      <td>1</td>\n",
       "      <td>6</td>\n",
       "      <td>3</td>\n",
       "      <td>45</td>\n",
       "      <td>1</td>\n",
       "      <td>1</td>\n",
       "      <td>1</td>\n",
       "      <td>...</td>\n",
       "      <td>1</td>\n",
       "      <td>1</td>\n",
       "      <td>1</td>\n",
       "      <td>1</td>\n",
       "      <td>-9.0</td>\n",
       "      <td>02</td>\n",
       "      <td>6</td>\n",
       "      <td>6</td>\n",
       "      <td>1</td>\n",
       "      <td>534.816259</td>\n",
       "    </tr>\n",
       "  </tbody>\n",
       "</table>\n",
       "<p>54037 rows × 33 columns</p>\n",
       "</div>"
      ],
      "text/plain": [
       "       ANOENC  NUMERO  NORDEN  CATEGMH  SUSPRIN  RELASP  EDAD  SEXO  \\\n",
       "0        2019       1       1        1        1       1    56     6   \n",
       "1        2019       1       2        1        6       2    64     1   \n",
       "2        2019       1       3        1        6       3    27     1   \n",
       "3        2019       2       1        1        1       1    69     1   \n",
       "4        2019       3       1        1        1       1    66     6   \n",
       "...       ...     ...     ...      ...      ...     ...   ...   ...   \n",
       "54032    2019   20816       4        1        6       3    10     1   \n",
       "54033    2019   20816       5        1        6       3     3     6   \n",
       "54034    2019   20817       1        1        1       1    72     1   \n",
       "54035    2019   20817       2        1        6       2    67     6   \n",
       "54036    2019   20817       3        1        6       3    45     1   \n",
       "\n",
       "       PAISNACIM  NACIONA  ... SITURED  OCU  JORNADA  PERCEP IMPEXACP  \\\n",
       "0              1        1  ...       1    1        1       1     -9.0   \n",
       "1              1        1  ...       2    2                1     -9.0   \n",
       "2              1        1  ...       2    2                6      NaN   \n",
       "3              1        1  ...       2    2                1     -9.0   \n",
       "4              1        1  ...       2    2                1    558.0   \n",
       "...          ...      ...  ...     ...  ...      ...     ...      ...   \n",
       "54032          1        1  ...                             6      NaN   \n",
       "54033          1        1  ...                             6      NaN   \n",
       "54034          1        1  ...       2    2                1     -9.0   \n",
       "54035          1        1  ...       2    2                6      NaN   \n",
       "54036          1        1  ...       1    1        1       1     -9.0   \n",
       "\n",
       "       INTERINP  NINODEP  HIJODEP  ADULTO       FACTOR  \n",
       "0            03        6        6       1  1294.618356  \n",
       "1            02        6        6       1  1294.618356  \n",
       "2                      6        6       1  1294.618356  \n",
       "3            05        6        6       1  1569.018845  \n",
       "4            02        6        6       1   332.468410  \n",
       "...         ...      ...      ...     ...          ...  \n",
       "54032                  1        1       6   371.083222  \n",
       "54033                  1        1       6   371.083222  \n",
       "54034        02        6        6       1   534.816259  \n",
       "54035                  6        6       1   534.816259  \n",
       "54036        02        6        6       1   534.816259  \n",
       "\n",
       "[54037 rows x 33 columns]"
      ]
     },
     "execution_count": 8,
     "metadata": {},
     "output_type": "execute_result"
    }
   ],
   "source": [
    "dict_df_EPF_all_memberHouseholds['2019']"
   ]
  },
  {
   "cell_type": "markdown",
   "metadata": {},
   "source": [
    "\n",
    "<a id='asse'></a>\n",
    "### Assessing"
   ]
  },
  {
   "cell_type": "markdown",
   "metadata": {},
   "source": [
    "\n",
    "<p style='text-align: justify;'> This part of the analysis will focus on identifying those aspects of the datasets to improve. These improvements will make the posterior modelling possible. </p>"
   ]
  },
  {
   "cell_type": "markdown",
   "metadata": {},
   "source": [
    "**Inspection of the expenses table:**"
   ]
  },
  {
   "cell_type": "code",
   "execution_count": 9,
   "metadata": {},
   "outputs": [
    {
     "data": {
      "text/html": [
       "<div>\n",
       "<style scoped>\n",
       "    .dataframe tbody tr th:only-of-type {\n",
       "        vertical-align: middle;\n",
       "    }\n",
       "\n",
       "    .dataframe tbody tr th {\n",
       "        vertical-align: top;\n",
       "    }\n",
       "\n",
       "    .dataframe thead th {\n",
       "        text-align: right;\n",
       "    }\n",
       "</style>\n",
       "<table border=\"1\" class=\"dataframe\">\n",
       "  <thead>\n",
       "    <tr style=\"text-align: right;\">\n",
       "      <th></th>\n",
       "      <th>ANOENC</th>\n",
       "      <th>NUMERO</th>\n",
       "      <th>CODIGO</th>\n",
       "      <th>GASTO</th>\n",
       "      <th>PORCENDES</th>\n",
       "      <th>PORCENIMP</th>\n",
       "      <th>CANTIDAD</th>\n",
       "      <th>GASTOMON</th>\n",
       "      <th>GASTNOM1</th>\n",
       "      <th>GASTNOM2</th>\n",
       "      <th>GASTNOM3</th>\n",
       "      <th>GASTNOM4</th>\n",
       "      <th>GASTNOM5</th>\n",
       "      <th>FACTOR</th>\n",
       "    </tr>\n",
       "  </thead>\n",
       "  <tbody>\n",
       "    <tr>\n",
       "      <th>0</th>\n",
       "      <td>2022</td>\n",
       "      <td>1</td>\n",
       "      <td>01111</td>\n",
       "      <td>4904.58</td>\n",
       "      <td>100.00</td>\n",
       "      <td>0.0</td>\n",
       "      <td>1563.96</td>\n",
       "      <td>4904.58</td>\n",
       "      <td>NaN</td>\n",
       "      <td>NaN</td>\n",
       "      <td>NaN</td>\n",
       "      <td>NaN</td>\n",
       "      <td>NaN</td>\n",
       "      <td>299.937215</td>\n",
       "    </tr>\n",
       "    <tr>\n",
       "      <th>1</th>\n",
       "      <td>2022</td>\n",
       "      <td>1</td>\n",
       "      <td>01112</td>\n",
       "      <td>2202.06</td>\n",
       "      <td>100.00</td>\n",
       "      <td>0.0</td>\n",
       "      <td>NaN</td>\n",
       "      <td>2202.06</td>\n",
       "      <td>NaN</td>\n",
       "      <td>NaN</td>\n",
       "      <td>NaN</td>\n",
       "      <td>NaN</td>\n",
       "      <td>NaN</td>\n",
       "      <td>299.937215</td>\n",
       "    </tr>\n",
       "    <tr>\n",
       "      <th>2</th>\n",
       "      <td>2022</td>\n",
       "      <td>1</td>\n",
       "      <td>01113</td>\n",
       "      <td>191447.43</td>\n",
       "      <td>32.34</td>\n",
       "      <td>0.0</td>\n",
       "      <td>56302.55</td>\n",
       "      <td>191447.43</td>\n",
       "      <td>NaN</td>\n",
       "      <td>NaN</td>\n",
       "      <td>NaN</td>\n",
       "      <td>NaN</td>\n",
       "      <td>NaN</td>\n",
       "      <td>299.937215</td>\n",
       "    </tr>\n",
       "    <tr>\n",
       "      <th>3</th>\n",
       "      <td>2022</td>\n",
       "      <td>1</td>\n",
       "      <td>01114</td>\n",
       "      <td>54403.90</td>\n",
       "      <td>100.00</td>\n",
       "      <td>0.0</td>\n",
       "      <td>9383.76</td>\n",
       "      <td>54403.90</td>\n",
       "      <td>NaN</td>\n",
       "      <td>NaN</td>\n",
       "      <td>NaN</td>\n",
       "      <td>NaN</td>\n",
       "      <td>NaN</td>\n",
       "      <td>299.937215</td>\n",
       "    </tr>\n",
       "    <tr>\n",
       "      <th>4</th>\n",
       "      <td>2022</td>\n",
       "      <td>1</td>\n",
       "      <td>01115</td>\n",
       "      <td>8617.42</td>\n",
       "      <td>100.00</td>\n",
       "      <td>0.0</td>\n",
       "      <td>NaN</td>\n",
       "      <td>8617.42</td>\n",
       "      <td>NaN</td>\n",
       "      <td>NaN</td>\n",
       "      <td>NaN</td>\n",
       "      <td>NaN</td>\n",
       "      <td>NaN</td>\n",
       "      <td>299.937215</td>\n",
       "    </tr>\n",
       "  </tbody>\n",
       "</table>\n",
       "</div>"
      ],
      "text/plain": [
       "   ANOENC  NUMERO CODIGO      GASTO  PORCENDES  PORCENIMP  CANTIDAD  \\\n",
       "0    2022       1  01111    4904.58     100.00        0.0   1563.96   \n",
       "1    2022       1  01112    2202.06     100.00        0.0       NaN   \n",
       "2    2022       1  01113  191447.43      32.34        0.0  56302.55   \n",
       "3    2022       1  01114   54403.90     100.00        0.0   9383.76   \n",
       "4    2022       1  01115    8617.42     100.00        0.0       NaN   \n",
       "\n",
       "    GASTOMON  GASTNOM1  GASTNOM2  GASTNOM3  GASTNOM4  GASTNOM5      FACTOR  \n",
       "0    4904.58       NaN       NaN       NaN       NaN       NaN  299.937215  \n",
       "1    2202.06       NaN       NaN       NaN       NaN       NaN  299.937215  \n",
       "2  191447.43       NaN       NaN       NaN       NaN       NaN  299.937215  \n",
       "3   54403.90       NaN       NaN       NaN       NaN       NaN  299.937215  \n",
       "4    8617.42       NaN       NaN       NaN       NaN       NaN  299.937215  "
      ]
     },
     "execution_count": 9,
     "metadata": {},
     "output_type": "execute_result"
    }
   ],
   "source": [
    "# Visual inspection \n",
    "dict_df_EPF_all_expenses['2022'].head()"
   ]
  },
  {
   "cell_type": "code",
   "execution_count": 10,
   "metadata": {},
   "outputs": [
    {
     "name": "stdout",
     "output_type": "stream",
     "text": [
      "<class 'pandas.core.frame.DataFrame'>\n",
      "RangeIndex: 1437060 entries, 0 to 1437059\n",
      "Data columns (total 14 columns):\n",
      " #   Column     Non-Null Count    Dtype  \n",
      "---  ------     --------------    -----  \n",
      " 0   ANOENC     1437060 non-null  int64  \n",
      " 1   NUMERO     1437060 non-null  int64  \n",
      " 2   CODIGO     1437060 non-null  object \n",
      " 3   GASTO      1437060 non-null  float64\n",
      " 4   PORCENDES  1437060 non-null  float64\n",
      " 5   PORCENIMP  1437060 non-null  float64\n",
      " 6   CANTIDAD   545314 non-null   float64\n",
      " 7   GASTOMON   1437058 non-null  float64\n",
      " 8   GASTNOM1   2537 non-null     float64\n",
      " 9   GASTNOM2   934 non-null      float64\n",
      " 10  GASTNOM3   1868 non-null     float64\n",
      " 11  GASTNOM4   20665 non-null    float64\n",
      " 12  GASTNOM5   0 non-null        float64\n",
      " 13  FACTOR     1437060 non-null  float64\n",
      "dtypes: float64(11), int64(2), object(1)\n",
      "memory usage: 153.5+ MB\n"
     ]
    }
   ],
   "source": [
    "# Display basic information\n",
    "dict_df_EPF_all_expenses['2022'].info()"
   ]
  },
  {
   "cell_type": "code",
   "execution_count": 11,
   "metadata": {},
   "outputs": [
    {
     "data": {
      "text/plain": [
       "str"
      ]
     },
     "execution_count": 11,
     "metadata": {},
     "output_type": "execute_result"
    }
   ],
   "source": [
    "# Verify the data types of 'CODIGO'\n",
    "type(dict_df_EPF_all_expenses['2022']['CODIGO'][9])"
   ]
  },
  {
   "cell_type": "markdown",
   "metadata": {},
   "source": [
    "> The columns with most missing values seem to be the ones named 'GASTNOM#'.  \n",
    "The description file indicated that these columns are reserved for expenses that were paid with non-money related ways. These could be labor, work tickets, etc."
   ]
  },
  {
   "cell_type": "code",
   "execution_count": 12,
   "metadata": {},
   "outputs": [
    {
     "data": {
      "text/plain": [
       "ANOENC             1\n",
       "NUMERO         20585\n",
       "CODIGO           360\n",
       "GASTO        1241913\n",
       "PORCENDES       9652\n",
       "PORCENIMP       8478\n",
       "CANTIDAD      365169\n",
       "GASTOMON     1218944\n",
       "GASTNOM1        2474\n",
       "GASTNOM2         917\n",
       "GASTNOM3        1772\n",
       "GASTNOM4       20378\n",
       "GASTNOM5           0\n",
       "FACTOR         17861\n",
       "dtype: int64"
      ]
     },
     "execution_count": 12,
     "metadata": {},
     "output_type": "execute_result"
    }
   ],
   "source": [
    "# Look at unique values\n",
    "dict_df_EPF_all_expenses['2022'].nunique()"
   ]
  },
  {
   "cell_type": "code",
   "execution_count": 13,
   "metadata": {},
   "outputs": [
    {
     "data": {
      "text/plain": [
       "0"
      ]
     },
     "execution_count": 13,
     "metadata": {},
     "output_type": "execute_result"
    }
   ],
   "source": [
    "# Look at duplicated values\n",
    "sum(dict_df_EPF_all_expenses['2022'].duplicated())"
   ]
  },
  {
   "cell_type": "code",
   "execution_count": 14,
   "metadata": {},
   "outputs": [
    {
     "name": "stdout",
     "output_type": "stream",
     "text": [
      "2018 expenses' info table is composed by 1,924,175 rows and 14 columns.\n",
      "2019 expenses' info table is composed by 1,889,678 rows and 14 columns.\n",
      "2020 expenses' info table is composed by 1,568,629 rows and 14 columns.\n",
      "2021 expenses' info table is composed by 1,488,799 rows and 14 columns.\n",
      "2022 expenses' info table is composed by 1,437,060 rows and 14 columns.\n"
     ]
    }
   ],
   "source": [
    "# Inspect shape of all datasets\n",
    "for year in df_dict_keys:\n",
    "    print(f\"{year} expenses' info table is composed by {dict_df_EPF_all_expenses[year].shape[0]:,} rows and {dict_df_EPF_all_expenses[year].shape[1]} columns.\")"
   ]
  },
  {
   "cell_type": "markdown",
   "metadata": {},
   "source": [
    "> All tables share the same number of columns but the rows vary."
   ]
  },
  {
   "cell_type": "code",
   "execution_count": 15,
   "metadata": {},
   "outputs": [
    {
     "name": "stdout",
     "output_type": "stream",
     "text": [
      "2018 describes the spending habits of 21,395 families.\n",
      "2019 describes the spending habits of 20,817 families.\n",
      "2020 describes the spending habits of 19,169 families.\n",
      "2021 describes the spending habits of 19,394 families.\n",
      "2022 describes the spending habits of 20,585 families.\n"
     ]
    }
   ],
   "source": [
    "# Inspect no. of families\n",
    "for year in df_dict_keys:\n",
    "    print(f\"{year} describes the spending habits of {len(dict_df_EPF_all_expenses[year]['NUMERO'].unique()):,} families.\")"
   ]
  },
  {
   "cell_type": "markdown",
   "metadata": {},
   "source": [
    "> The year describing more families is 2018. This has little impact on the results traslated to the population because each family includes an expansion factor that links the sample household with the number of homes they represent in the population"
   ]
  },
  {
   "cell_type": "code",
   "execution_count": 16,
   "metadata": {},
   "outputs": [
    {
     "data": {
      "text/html": [
       "<div>\n",
       "<style scoped>\n",
       "    .dataframe tbody tr th:only-of-type {\n",
       "        vertical-align: middle;\n",
       "    }\n",
       "\n",
       "    .dataframe tbody tr th {\n",
       "        vertical-align: top;\n",
       "    }\n",
       "\n",
       "    .dataframe thead th {\n",
       "        text-align: right;\n",
       "    }\n",
       "</style>\n",
       "<table border=\"1\" class=\"dataframe\">\n",
       "  <thead>\n",
       "    <tr style=\"text-align: right;\">\n",
       "      <th></th>\n",
       "      <th>ANOENC</th>\n",
       "      <th>NUMERO</th>\n",
       "      <th>GASTO</th>\n",
       "      <th>PORCENDES</th>\n",
       "      <th>PORCENIMP</th>\n",
       "      <th>CANTIDAD</th>\n",
       "      <th>GASTOMON</th>\n",
       "      <th>GASTNOM1</th>\n",
       "      <th>GASTNOM2</th>\n",
       "      <th>GASTNOM3</th>\n",
       "      <th>GASTNOM4</th>\n",
       "      <th>GASTNOM5</th>\n",
       "      <th>FACTOR</th>\n",
       "    </tr>\n",
       "  </thead>\n",
       "  <tbody>\n",
       "    <tr>\n",
       "      <th>count</th>\n",
       "      <td>1488799.0</td>\n",
       "      <td>1.488799e+06</td>\n",
       "      <td>1.488799e+06</td>\n",
       "      <td>1.488799e+06</td>\n",
       "      <td>1.488799e+06</td>\n",
       "      <td>5.901330e+05</td>\n",
       "      <td>1.488797e+06</td>\n",
       "      <td>2.447000e+03</td>\n",
       "      <td>1.530000e+03</td>\n",
       "      <td>1.895000e+03</td>\n",
       "      <td>1.974900e+04</td>\n",
       "      <td>0.0</td>\n",
       "      <td>1.488799e+06</td>\n",
       "    </tr>\n",
       "    <tr>\n",
       "      <th>mean</th>\n",
       "      <td>2021.0</td>\n",
       "      <td>9.679386e+03</td>\n",
       "      <td>3.705809e+05</td>\n",
       "      <td>3.762530e+01</td>\n",
       "      <td>1.440463e+01</td>\n",
       "      <td>2.589946e+05</td>\n",
       "      <td>2.855865e+05</td>\n",
       "      <td>6.147322e+05</td>\n",
       "      <td>1.852813e+05</td>\n",
       "      <td>9.562027e+05</td>\n",
       "      <td>6.225154e+06</td>\n",
       "      <td>NaN</td>\n",
       "      <td>9.834518e+02</td>\n",
       "    </tr>\n",
       "    <tr>\n",
       "      <th>std</th>\n",
       "      <td>0.0</td>\n",
       "      <td>5.587630e+03</td>\n",
       "      <td>1.638910e+06</td>\n",
       "      <td>4.756322e+01</td>\n",
       "      <td>3.450117e+01</td>\n",
       "      <td>1.270695e+06</td>\n",
       "      <td>1.288340e+06</td>\n",
       "      <td>3.027980e+06</td>\n",
       "      <td>7.675572e+05</td>\n",
       "      <td>3.138617e+06</td>\n",
       "      <td>6.322289e+06</td>\n",
       "      <td>NaN</td>\n",
       "      <td>7.368025e+02</td>\n",
       "    </tr>\n",
       "    <tr>\n",
       "      <th>min</th>\n",
       "      <td>2021.0</td>\n",
       "      <td>1.000000e+00</td>\n",
       "      <td>1.000000e-02</td>\n",
       "      <td>0.000000e+00</td>\n",
       "      <td>0.000000e+00</td>\n",
       "      <td>1.001000e+01</td>\n",
       "      <td>0.000000e+00</td>\n",
       "      <td>0.000000e+00</td>\n",
       "      <td>7.800000e-01</td>\n",
       "      <td>9.203000e+01</td>\n",
       "      <td>8.453072e+04</td>\n",
       "      <td>NaN</td>\n",
       "      <td>7.411386e+01</td>\n",
       "    </tr>\n",
       "    <tr>\n",
       "      <th>25%</th>\n",
       "      <td>2021.0</td>\n",
       "      <td>4.839000e+03</td>\n",
       "      <td>5.591385e+03</td>\n",
       "      <td>0.000000e+00</td>\n",
       "      <td>0.000000e+00</td>\n",
       "      <td>8.155760e+03</td>\n",
       "      <td>4.469960e+03</td>\n",
       "      <td>7.190204e+04</td>\n",
       "      <td>1.165194e+04</td>\n",
       "      <td>8.113860e+03</td>\n",
       "      <td>2.542857e+06</td>\n",
       "      <td>NaN</td>\n",
       "      <td>4.572252e+02</td>\n",
       "    </tr>\n",
       "    <tr>\n",
       "      <th>50%</th>\n",
       "      <td>2021.0</td>\n",
       "      <td>9.692000e+03</td>\n",
       "      <td>5.160908e+04</td>\n",
       "      <td>0.000000e+00</td>\n",
       "      <td>0.000000e+00</td>\n",
       "      <td>2.711620e+04</td>\n",
       "      <td>4.705294e+04</td>\n",
       "      <td>1.723470e+05</td>\n",
       "      <td>4.862174e+04</td>\n",
       "      <td>1.010220e+05</td>\n",
       "      <td>4.230137e+06</td>\n",
       "      <td>NaN</td>\n",
       "      <td>7.823255e+02</td>\n",
       "    </tr>\n",
       "    <tr>\n",
       "      <th>75%</th>\n",
       "      <td>2021.0</td>\n",
       "      <td>1.448200e+04</td>\n",
       "      <td>2.151886e+05</td>\n",
       "      <td>1.000000e+02</td>\n",
       "      <td>0.000000e+00</td>\n",
       "      <td>9.268774e+04</td>\n",
       "      <td>1.973388e+05</td>\n",
       "      <td>3.956287e+05</td>\n",
       "      <td>1.432249e+05</td>\n",
       "      <td>7.502103e+05</td>\n",
       "      <td>7.803856e+06</td>\n",
       "      <td>NaN</td>\n",
       "      <td>1.331782e+03</td>\n",
       "    </tr>\n",
       "    <tr>\n",
       "      <th>max</th>\n",
       "      <td>2021.0</td>\n",
       "      <td>1.939400e+04</td>\n",
       "      <td>2.797928e+08</td>\n",
       "      <td>1.000000e+02</td>\n",
       "      <td>1.000000e+02</td>\n",
       "      <td>1.118148e+08</td>\n",
       "      <td>2.797928e+08</td>\n",
       "      <td>1.020367e+08</td>\n",
       "      <td>1.637394e+07</td>\n",
       "      <td>5.707537e+07</td>\n",
       "      <td>2.444656e+08</td>\n",
       "      <td>NaN</td>\n",
       "      <td>9.423128e+03</td>\n",
       "    </tr>\n",
       "  </tbody>\n",
       "</table>\n",
       "</div>"
      ],
      "text/plain": [
       "          ANOENC        NUMERO         GASTO     PORCENDES     PORCENIMP  \\\n",
       "count  1488799.0  1.488799e+06  1.488799e+06  1.488799e+06  1.488799e+06   \n",
       "mean      2021.0  9.679386e+03  3.705809e+05  3.762530e+01  1.440463e+01   \n",
       "std          0.0  5.587630e+03  1.638910e+06  4.756322e+01  3.450117e+01   \n",
       "min       2021.0  1.000000e+00  1.000000e-02  0.000000e+00  0.000000e+00   \n",
       "25%       2021.0  4.839000e+03  5.591385e+03  0.000000e+00  0.000000e+00   \n",
       "50%       2021.0  9.692000e+03  5.160908e+04  0.000000e+00  0.000000e+00   \n",
       "75%       2021.0  1.448200e+04  2.151886e+05  1.000000e+02  0.000000e+00   \n",
       "max       2021.0  1.939400e+04  2.797928e+08  1.000000e+02  1.000000e+02   \n",
       "\n",
       "           CANTIDAD      GASTOMON      GASTNOM1      GASTNOM2      GASTNOM3  \\\n",
       "count  5.901330e+05  1.488797e+06  2.447000e+03  1.530000e+03  1.895000e+03   \n",
       "mean   2.589946e+05  2.855865e+05  6.147322e+05  1.852813e+05  9.562027e+05   \n",
       "std    1.270695e+06  1.288340e+06  3.027980e+06  7.675572e+05  3.138617e+06   \n",
       "min    1.001000e+01  0.000000e+00  0.000000e+00  7.800000e-01  9.203000e+01   \n",
       "25%    8.155760e+03  4.469960e+03  7.190204e+04  1.165194e+04  8.113860e+03   \n",
       "50%    2.711620e+04  4.705294e+04  1.723470e+05  4.862174e+04  1.010220e+05   \n",
       "75%    9.268774e+04  1.973388e+05  3.956287e+05  1.432249e+05  7.502103e+05   \n",
       "max    1.118148e+08  2.797928e+08  1.020367e+08  1.637394e+07  5.707537e+07   \n",
       "\n",
       "           GASTNOM4  GASTNOM5        FACTOR  \n",
       "count  1.974900e+04       0.0  1.488799e+06  \n",
       "mean   6.225154e+06       NaN  9.834518e+02  \n",
       "std    6.322289e+06       NaN  7.368025e+02  \n",
       "min    8.453072e+04       NaN  7.411386e+01  \n",
       "25%    2.542857e+06       NaN  4.572252e+02  \n",
       "50%    4.230137e+06       NaN  7.823255e+02  \n",
       "75%    7.803856e+06       NaN  1.331782e+03  \n",
       "max    2.444656e+08       NaN  9.423128e+03  "
      ]
     },
     "execution_count": 16,
     "metadata": {},
     "output_type": "execute_result"
    }
   ],
   "source": [
    "# Look at statistics \n",
    "dict_df_EPF_all_expenses['2021'].describe()"
   ]
  },
  {
   "cell_type": "code",
   "execution_count": 17,
   "metadata": {},
   "outputs": [
    {
     "data": {
      "text/html": [
       "<div>\n",
       "<style scoped>\n",
       "    .dataframe tbody tr th:only-of-type {\n",
       "        vertical-align: middle;\n",
       "    }\n",
       "\n",
       "    .dataframe tbody tr th {\n",
       "        vertical-align: top;\n",
       "    }\n",
       "\n",
       "    .dataframe thead th {\n",
       "        text-align: right;\n",
       "    }\n",
       "</style>\n",
       "<table border=\"1\" class=\"dataframe\">\n",
       "  <thead>\n",
       "    <tr style=\"text-align: right;\">\n",
       "      <th></th>\n",
       "      <th>CODIGO</th>\n",
       "    </tr>\n",
       "  </thead>\n",
       "  <tbody>\n",
       "    <tr>\n",
       "      <th>count</th>\n",
       "      <td>1568629</td>\n",
       "    </tr>\n",
       "    <tr>\n",
       "      <th>unique</th>\n",
       "      <td>361</td>\n",
       "    </tr>\n",
       "    <tr>\n",
       "      <th>top</th>\n",
       "      <td>04511</td>\n",
       "    </tr>\n",
       "    <tr>\n",
       "      <th>freq</th>\n",
       "      <td>18850</td>\n",
       "    </tr>\n",
       "  </tbody>\n",
       "</table>\n",
       "</div>"
      ],
      "text/plain": [
       "         CODIGO\n",
       "count   1568629\n",
       "unique      361\n",
       "top       04511\n",
       "freq      18850"
      ]
     },
     "execution_count": 17,
     "metadata": {},
     "output_type": "execute_result"
    }
   ],
   "source": [
    "# Look at statistics for categorical variables\n",
    "dict_df_EPF_all_expenses['2020'].describe(include = 'object')"
   ]
  },
  {
   "cell_type": "markdown",
   "metadata": {},
   "source": [
    "**Inspection of the households table:**"
   ]
  },
  {
   "cell_type": "code",
   "execution_count": 18,
   "metadata": {},
   "outputs": [
    {
     "data": {
      "text/html": [
       "<div>\n",
       "<style scoped>\n",
       "    .dataframe tbody tr th:only-of-type {\n",
       "        vertical-align: middle;\n",
       "    }\n",
       "\n",
       "    .dataframe tbody tr th {\n",
       "        vertical-align: top;\n",
       "    }\n",
       "\n",
       "    .dataframe thead th {\n",
       "        text-align: right;\n",
       "    }\n",
       "</style>\n",
       "<table border=\"1\" class=\"dataframe\">\n",
       "  <thead>\n",
       "    <tr style=\"text-align: right;\">\n",
       "      <th></th>\n",
       "      <th>ANOENC</th>\n",
       "      <th>NUMERO</th>\n",
       "      <th>CCAA</th>\n",
       "      <th>NUTS1</th>\n",
       "      <th>CAPROV</th>\n",
       "      <th>TAMAMU</th>\n",
       "      <th>DENSIDAD</th>\n",
       "      <th>CLAVE</th>\n",
       "      <th>CLATEO</th>\n",
       "      <th>FACTOR</th>\n",
       "      <th>...</th>\n",
       "      <th>FUENPRIN</th>\n",
       "      <th>FUENPRINRED</th>\n",
       "      <th>IMPEXAC</th>\n",
       "      <th>INTERIN</th>\n",
       "      <th>NUMPERI</th>\n",
       "      <th>COMIMH</th>\n",
       "      <th>COMISD</th>\n",
       "      <th>COMIHU</th>\n",
       "      <th>COMIINV</th>\n",
       "      <th>COMITOT</th>\n",
       "    </tr>\n",
       "  </thead>\n",
       "  <tbody>\n",
       "    <tr>\n",
       "      <th>0</th>\n",
       "      <td>2018</td>\n",
       "      <td>1</td>\n",
       "      <td>2</td>\n",
       "      <td>2</td>\n",
       "      <td>1</td>\n",
       "      <td>1</td>\n",
       "      <td>1</td>\n",
       "      <td>2</td>\n",
       "      <td>2</td>\n",
       "      <td>422.866646</td>\n",
       "      <td>...</td>\n",
       "      <td>2</td>\n",
       "      <td>2</td>\n",
       "      <td>2324</td>\n",
       "      <td>5</td>\n",
       "      <td>2</td>\n",
       "      <td>54</td>\n",
       "      <td>0</td>\n",
       "      <td>0</td>\n",
       "      <td>0</td>\n",
       "      <td>54</td>\n",
       "    </tr>\n",
       "    <tr>\n",
       "      <th>1</th>\n",
       "      <td>2018</td>\n",
       "      <td>2</td>\n",
       "      <td>9</td>\n",
       "      <td>5</td>\n",
       "      <td>6</td>\n",
       "      <td>4</td>\n",
       "      <td>2</td>\n",
       "      <td>1</td>\n",
       "      <td>1</td>\n",
       "      <td>2051.951724</td>\n",
       "      <td>...</td>\n",
       "      <td>2</td>\n",
       "      <td>2</td>\n",
       "      <td>2682</td>\n",
       "      <td>6</td>\n",
       "      <td>2</td>\n",
       "      <td>64</td>\n",
       "      <td>0</td>\n",
       "      <td>0</td>\n",
       "      <td>0</td>\n",
       "      <td>64</td>\n",
       "    </tr>\n",
       "    <tr>\n",
       "      <th>2</th>\n",
       "      <td>2018</td>\n",
       "      <td>3</td>\n",
       "      <td>13</td>\n",
       "      <td>3</td>\n",
       "      <td>1</td>\n",
       "      <td>1</td>\n",
       "      <td>1</td>\n",
       "      <td>1</td>\n",
       "      <td>1</td>\n",
       "      <td>1349.187753</td>\n",
       "      <td>...</td>\n",
       "      <td>3</td>\n",
       "      <td>3</td>\n",
       "      <td>3240</td>\n",
       "      <td>7</td>\n",
       "      <td>2</td>\n",
       "      <td>52</td>\n",
       "      <td>0</td>\n",
       "      <td>0</td>\n",
       "      <td>0</td>\n",
       "      <td>52</td>\n",
       "    </tr>\n",
       "    <tr>\n",
       "      <th>3</th>\n",
       "      <td>2018</td>\n",
       "      <td>4</td>\n",
       "      <td>10</td>\n",
       "      <td>5</td>\n",
       "      <td>1</td>\n",
       "      <td>1</td>\n",
       "      <td>1</td>\n",
       "      <td>1</td>\n",
       "      <td>1</td>\n",
       "      <td>1200.012995</td>\n",
       "      <td>...</td>\n",
       "      <td>3</td>\n",
       "      <td>3</td>\n",
       "      <td>746</td>\n",
       "      <td>2</td>\n",
       "      <td>1</td>\n",
       "      <td>28</td>\n",
       "      <td>0</td>\n",
       "      <td>0</td>\n",
       "      <td>0</td>\n",
       "      <td>28</td>\n",
       "    </tr>\n",
       "    <tr>\n",
       "      <th>4</th>\n",
       "      <td>2018</td>\n",
       "      <td>5</td>\n",
       "      <td>1</td>\n",
       "      <td>6</td>\n",
       "      <td>6</td>\n",
       "      <td>3</td>\n",
       "      <td>2</td>\n",
       "      <td>1</td>\n",
       "      <td>1</td>\n",
       "      <td>887.660816</td>\n",
       "      <td>...</td>\n",
       "      <td>3</td>\n",
       "      <td>3</td>\n",
       "      <td>3150</td>\n",
       "      <td>7</td>\n",
       "      <td>2</td>\n",
       "      <td>54</td>\n",
       "      <td>0</td>\n",
       "      <td>0</td>\n",
       "      <td>2</td>\n",
       "      <td>56</td>\n",
       "    </tr>\n",
       "  </tbody>\n",
       "</table>\n",
       "<p>5 rows × 188 columns</p>\n",
       "</div>"
      ],
      "text/plain": [
       "   ANOENC  NUMERO  CCAA  NUTS1  CAPROV  TAMAMU  DENSIDAD  CLAVE  CLATEO  \\\n",
       "0    2018       1     2      2       1       1         1      2       2   \n",
       "1    2018       2     9      5       6       4         2      1       1   \n",
       "2    2018       3    13      3       1       1         1      1       1   \n",
       "3    2018       4    10      5       1       1         1      1       1   \n",
       "4    2018       5     1      6       6       3         2      1       1   \n",
       "\n",
       "        FACTOR  ...  FUENPRIN  FUENPRINRED  IMPEXAC  INTERIN  NUMPERI  COMIMH  \\\n",
       "0   422.866646  ...         2            2     2324        5        2      54   \n",
       "1  2051.951724  ...         2            2     2682        6        2      64   \n",
       "2  1349.187753  ...         3            3     3240        7        2      52   \n",
       "3  1200.012995  ...         3            3      746        2        1      28   \n",
       "4   887.660816  ...         3            3     3150        7        2      54   \n",
       "\n",
       "   COMISD  COMIHU  COMIINV  COMITOT  \n",
       "0       0       0        0       54  \n",
       "1       0       0        0       64  \n",
       "2       0       0        0       52  \n",
       "3       0       0        0       28  \n",
       "4       0       0        2       56  \n",
       "\n",
       "[5 rows x 188 columns]"
      ]
     },
     "execution_count": 18,
     "metadata": {},
     "output_type": "execute_result"
    }
   ],
   "source": [
    "# Visual inspection \n",
    "dict_df_EPF_all_households['2018'].head()"
   ]
  },
  {
   "cell_type": "code",
   "execution_count": 19,
   "metadata": {},
   "outputs": [
    {
     "name": "stdout",
     "output_type": "stream",
     "text": [
      "<class 'pandas.core.frame.DataFrame'>\n",
      "RangeIndex: 20817 entries, 0 to 20816\n",
      "Columns: 188 entries, ANOENC to COMITOT\n",
      "dtypes: float64(30), int64(97), object(61)\n",
      "memory usage: 29.9+ MB\n"
     ]
    }
   ],
   "source": [
    "# Display basic information\n",
    "dict_df_EPF_all_households['2019'].info()"
   ]
  },
  {
   "cell_type": "markdown",
   "metadata": {},
   "source": [
    "> Info is not showing information due to many columns. The verbose parameter is set True to check some columns."
   ]
  },
  {
   "cell_type": "code",
   "execution_count": 20,
   "metadata": {},
   "outputs": [
    {
     "name": "stdout",
     "output_type": "stream",
     "text": [
      "<class 'pandas.core.frame.DataFrame'>\n",
      "RangeIndex: 20817 entries, 0 to 20816\n",
      "Data columns (total 188 columns):\n",
      " #    Column         Non-Null Count  Dtype  \n",
      "---   ------         --------------  -----  \n",
      " 0    ANOENC         20817 non-null  int64  \n",
      " 1    NUMERO         20817 non-null  int64  \n",
      " 2    CCAA           20817 non-null  int64  \n",
      " 3    NUTS1          20817 non-null  int64  \n",
      " 4    CAPROV         20817 non-null  int64  \n",
      " 5    TAMAMU         20817 non-null  int64  \n",
      " 6    DENSIDAD       20817 non-null  int64  \n",
      " 7    CLAVE          20817 non-null  int64  \n",
      " 8    CLATEO         20817 non-null  int64  \n",
      " 9    FACTOR         20817 non-null  float64\n",
      " 10   NMIEMB         20817 non-null  int64  \n",
      " 11   TAMANO         20817 non-null  int64  \n",
      " 12   NMIEMSD        20817 non-null  int64  \n",
      " 13   NMIEMHU        20817 non-null  int64  \n",
      " 14   NMIEMIN        20817 non-null  int64  \n",
      " 15   NMIEM1         20817 non-null  int64  \n",
      " 16   NMIEM2         20817 non-null  int64  \n",
      " 17   NMIEM3         20817 non-null  int64  \n",
      " 18   NMIEM4         20817 non-null  int64  \n",
      " 19   NMIEM5         20817 non-null  int64  \n",
      " 20   NMIEM6         20817 non-null  int64  \n",
      " 21   NMIEM7         20817 non-null  int64  \n",
      " 22   NMIEM8         20817 non-null  int64  \n",
      " 23   NMIEM9         20817 non-null  int64  \n",
      " 24   NMIEM10        20817 non-null  int64  \n",
      " 25   NMIEM11        20817 non-null  int64  \n",
      " 26   NMIEM12        20817 non-null  int64  \n",
      " 27   NMIEM13        20817 non-null  int64  \n",
      " 28   NUMACTI        20817 non-null  int64  \n",
      " 29   NUMINACTI      20817 non-null  int64  \n",
      " 30   NUMOCU         20817 non-null  int64  \n",
      " 31   NUMNOCU        20817 non-null  int64  \n",
      " 32   NUMESTU        20817 non-null  int64  \n",
      " 33   NUMNOESTU      20817 non-null  int64  \n",
      " 34   NNINOSD        20817 non-null  int64  \n",
      " 35   NHIJOSD        20817 non-null  int64  \n",
      " 36   UC1            20817 non-null  float64\n",
      " 37   UC2            20817 non-null  float64\n",
      " 38   PF2TEO         20817 non-null  int64  \n",
      " 39   PF2RECO        20817 non-null  int64  \n",
      " 40   TIPHOGAR1      20817 non-null  int64  \n",
      " 41   TIPHOGAR2      20817 non-null  int64  \n",
      " 42   TIPHOGAR3      20817 non-null  int64  \n",
      " 43   TIPHOGAR4      20817 non-null  int64  \n",
      " 44   TIPHOGAR5      20817 non-null  int64  \n",
      " 45   TIPHOGAR6      20817 non-null  int64  \n",
      " 46   TIPHOGAR7      20817 non-null  int64  \n",
      " 47   TIPHOGAR8      20817 non-null  int64  \n",
      " 48   TIPHOGAR9      20817 non-null  int64  \n",
      " 49   TIPHOGAR10     20817 non-null  int64  \n",
      " 50   TIPHOGAR11     20817 non-null  int64  \n",
      " 51   SITUOCUHOG     20817 non-null  int64  \n",
      " 52   SITUACTHOG     20817 non-null  int64  \n",
      " 53   NORDENSP       20817 non-null  int64  \n",
      " 54   EDADSP         20817 non-null  int64  \n",
      " 55   SEXOSP         20817 non-null  int64  \n",
      " 56   PAISNACSP      20817 non-null  int64  \n",
      " 57   NACIONASP      20817 non-null  int64  \n",
      " 58   PAISSP         20817 non-null  object \n",
      " 59   SITURESSP      20817 non-null  int64  \n",
      " 60   ECIVILLEGALSP  20817 non-null  int64  \n",
      " 61   NORDENCOSP     20817 non-null  int64  \n",
      " 62   UNIONSP        20817 non-null  object \n",
      " 63   CONVIVENCIASP  20817 non-null  int64  \n",
      " 64   NORDENPASP     20817 non-null  int64  \n",
      " 65   PAISPADRESP    20817 non-null  int64  \n",
      " 66   NORDENMASP     20817 non-null  int64  \n",
      " 67   PAISMADRESP    20817 non-null  int64  \n",
      " 68   ESTUDIOSSP     20817 non-null  int64  \n",
      " 69   ESTUDREDSP     20817 non-null  int64  \n",
      " 70   SITUACTSP      20817 non-null  int64  \n",
      " 71   SITUREDSP      20817 non-null  int64  \n",
      " 72   OCUSP          20817 non-null  int64  \n",
      " 73   JORNADASP      20817 non-null  object \n",
      " 74   PERCEPSP       20817 non-null  int64  \n",
      " 75   IMPEXACPSP     20676 non-null  float64\n",
      " 76   INTERINPSP     20817 non-null  object \n",
      " 77   TRABAJO        20817 non-null  int64  \n",
      " 78   OCUPA          20817 non-null  object \n",
      " 79   OCUPARED       20817 non-null  object \n",
      " 80   ACTESTB        20817 non-null  object \n",
      " 81   ACTESTBRED     20817 non-null  object \n",
      " 82   SITPROF        20817 non-null  object \n",
      " 83   SECTOR         20817 non-null  object \n",
      " 84   CONTRATO       20817 non-null  object \n",
      " 85   TIPOCONT       20817 non-null  object \n",
      " 86   SITSOCI        20817 non-null  int64  \n",
      " 87   SITSOCIRE      20817 non-null  int64  \n",
      " 88   REGTEN         20817 non-null  int64  \n",
      " 89   TIPOEDIF       20817 non-null  int64  \n",
      " 90   ZONARES        20817 non-null  int64  \n",
      " 91   TIPOCASA       20817 non-null  int64  \n",
      " 92   NHABIT         20817 non-null  int64  \n",
      " 93   ANNOCON        20817 non-null  int64  \n",
      " 94   SUPERF         20817 non-null  int64  \n",
      " 95   AGUACALI       20817 non-null  int64  \n",
      " 96   FUENAGUA       20817 non-null  object \n",
      " 97   CALEF          20817 non-null  int64  \n",
      " 98   FUENCALE       20817 non-null  object \n",
      " 99   DISPOSIOV      20817 non-null  int64  \n",
      " 100  NUMOVD         3290 non-null   float64\n",
      " 101  REGTENV1       20817 non-null  object \n",
      " 102  MESESV1        3290 non-null   float64\n",
      " 103  DIASV1         3290 non-null   float64\n",
      " 104  AGUACV1        20817 non-null  object \n",
      " 105  FUENACV1       20817 non-null  object \n",
      " 106  CALEFV1        20817 non-null  object \n",
      " 107  FUENCAV1       20817 non-null  object \n",
      " 108  REGTENV2       20817 non-null  object \n",
      " 109  MESESV2        278 non-null    float64\n",
      " 110  DIASV2         278 non-null    float64\n",
      " 111  AGUACV2        20817 non-null  object \n",
      " 112  FUENACV2       20817 non-null  object \n",
      " 113  CALEFV2        20817 non-null  object \n",
      " 114  FUENCAV2       20817 non-null  object \n",
      " 115  REGTENV3       20817 non-null  object \n",
      " 116  MESESV3        30 non-null     float64\n",
      " 117  DIASV3         30 non-null     float64\n",
      " 118  AGUACV3        20817 non-null  object \n",
      " 119  FUENACV3       20817 non-null  object \n",
      " 120  CALEFV3        20817 non-null  object \n",
      " 121  FUENCAV3       20817 non-null  object \n",
      " 122  REGTENV4       20817 non-null  object \n",
      " 123  MESESV4        2 non-null      float64\n",
      " 124  DIASV4         2 non-null      float64\n",
      " 125  AGUACV4        20817 non-null  object \n",
      " 126  FUENACV4       20817 non-null  object \n",
      " 127  CALEFV4        20817 non-null  object \n",
      " 128  FUENCAV4       20817 non-null  object \n",
      " 129  REGTENV5       20817 non-null  object \n",
      " 130  MESESV5        1 non-null      float64\n",
      " 131  DIASV5         1 non-null      float64\n",
      " 132  AGUACV5        20817 non-null  object \n",
      " 133  FUENACV5       20817 non-null  object \n",
      " 134  CALEFV5        20817 non-null  object \n",
      " 135  FUENCAV5       20817 non-null  object \n",
      " 136  REGTENV6       20817 non-null  object \n",
      " 137  MESESV6        0 non-null      float64\n",
      " 138  DIASV6         0 non-null      float64\n",
      " 139  AGUACV6        20817 non-null  object \n",
      " 140  FUENACV6       20817 non-null  object \n",
      " 141  CALEFV6        20817 non-null  object \n",
      " 142  FUENCAV6       20817 non-null  object \n",
      " 143  REGTENV7       20817 non-null  object \n",
      " 144  MESESV7        0 non-null      float64\n",
      " 145  DIASV7         0 non-null      float64\n",
      " 146  AGUACV7        20817 non-null  object \n",
      " 147  FUENACV7       20817 non-null  object \n",
      " 148  CALEFV7        20817 non-null  object \n",
      " 149  FUENCAV7       20817 non-null  object \n",
      " 150  REGTENV8       20817 non-null  object \n",
      " 151  MESESV8        0 non-null      float64\n",
      " 152  DIASV8         0 non-null      float64\n",
      " 153  AGUACV8        20817 non-null  object \n",
      " 154  FUENACV8       20817 non-null  object \n",
      " 155  CALEFV8        20817 non-null  object \n",
      " 156  FUENCAV8       20817 non-null  object \n",
      " 157  REGTENV9       20817 non-null  object \n",
      " 158  MESESV9        0 non-null      float64\n",
      " 159  DIASV9         0 non-null      float64\n",
      " 160  AGUACV9        20817 non-null  object \n",
      " 161  FUENACV9       20817 non-null  object \n",
      " 162  CALEFV9        20817 non-null  object \n",
      " 163  FUENCAV9       20817 non-null  object \n",
      " 164  GASTOT         20817 non-null  float64\n",
      " 165  IMPUTGAS       20817 non-null  float64\n",
      " 166  GASTMON        20815 non-null  float64\n",
      " 167  GASTNOM1       1343 non-null   float64\n",
      " 168  GASTNOM2       167 non-null    float64\n",
      " 169  GASTNOM3       1016 non-null   float64\n",
      " 170  GASTNOM4       17972 non-null  float64\n",
      " 171  CAPROP         20817 non-null  int64  \n",
      " 172  CAJENA         20817 non-null  int64  \n",
      " 173  PENSIO         20817 non-null  int64  \n",
      " 174  DESEM          20817 non-null  int64  \n",
      " 175  OTRSUB         20817 non-null  int64  \n",
      " 176  RENTAS         20817 non-null  int64  \n",
      " 177  OTROIN         20817 non-null  int64  \n",
      " 178  FUENPRIN       20817 non-null  object \n",
      " 179  FUENPRINRED    20817 non-null  object \n",
      " 180  IMPEXAC        20817 non-null  int64  \n",
      " 181  INTERIN        20817 non-null  int64  \n",
      " 182  NUMPERI        20817 non-null  int64  \n",
      " 183  COMIMH         20817 non-null  int64  \n",
      " 184  COMISD         20817 non-null  int64  \n",
      " 185  COMIHU         20817 non-null  int64  \n",
      " 186  COMIINV        20817 non-null  int64  \n",
      " 187  COMITOT        20817 non-null  int64  \n",
      "dtypes: float64(30), int64(97), object(61)\n",
      "memory usage: 29.9+ MB\n"
     ]
    }
   ],
   "source": [
    "# Display basic information\n",
    "dict_df_EPF_all_households['2019'].info(verbose=True, show_counts=True)"
   ]
  },
  {
   "cell_type": "code",
   "execution_count": 21,
   "metadata": {},
   "outputs": [
    {
     "data": {
      "text/plain": [
       "444172"
      ]
     },
     "execution_count": 21,
     "metadata": {},
     "output_type": "execute_result"
    }
   ],
   "source": [
    "# Look at null values\n",
    "dict_df_EPF_all_households['2022'].isnull().sum().sum()"
   ]
  },
  {
   "cell_type": "code",
   "execution_count": 22,
   "metadata": {},
   "outputs": [
    {
     "data": {
      "text/plain": [
       "ANOENC         1\n",
       "NUMERO     19170\n",
       "CCAA          19\n",
       "NUTS1          7\n",
       "CAPROV         2\n",
       "           ...  \n",
       "COMIMH       183\n",
       "COMISD        23\n",
       "COMIHU        33\n",
       "COMIINV       85\n",
       "COMITOT      198\n",
       "Length: 188, dtype: int64"
      ]
     },
     "execution_count": 22,
     "metadata": {},
     "output_type": "execute_result"
    }
   ],
   "source": [
    "# Look at unique values\n",
    "dict_df_EPF_all_households['2020'].nunique()"
   ]
  },
  {
   "cell_type": "code",
   "execution_count": 23,
   "metadata": {},
   "outputs": [
    {
     "data": {
      "text/plain": [
       "0"
      ]
     },
     "execution_count": 23,
     "metadata": {},
     "output_type": "execute_result"
    }
   ],
   "source": [
    "# Look at duplicated values\n",
    "sum(dict_df_EPF_all_households['2022'].duplicated())"
   ]
  },
  {
   "cell_type": "code",
   "execution_count": 24,
   "metadata": {},
   "outputs": [
    {
     "name": "stdout",
     "output_type": "stream",
     "text": [
      "2018 household's info table is composed by 21,395 rows and 188 columns.\n",
      "2019 household's info table is composed by 20,817 rows and 188 columns.\n",
      "2020 household's info table is composed by 19,170 rows and 188 columns.\n",
      "2021 household's info table is composed by 19,394 rows and 188 columns.\n",
      "2022 household's info table is composed by 20,585 rows and 188 columns.\n"
     ]
    }
   ],
   "source": [
    "# Inspect shape of all datasets\n",
    "for year in df_dict_keys:\n",
    "    print(f\"{year} household's info table is composed by {dict_df_EPF_all_households[year].shape[0]:,} rows and {dict_df_EPF_all_households[year].shape[1]} columns.\")"
   ]
  },
  {
   "cell_type": "markdown",
   "metadata": {},
   "source": [
    "> As before the number of households (rows) varies between years but not the no. of columns."
   ]
  },
  {
   "cell_type": "code",
   "execution_count": 25,
   "metadata": {},
   "outputs": [
    {
     "name": "stdout",
     "output_type": "stream",
     "text": [
      "2018 describes the housing conditions of 21,395 families (sample).\n",
      "2019 describes the housing conditions of 20,817 families (sample).\n",
      "2020 describes the housing conditions of 19,170 families (sample).\n",
      "2021 describes the housing conditions of 19,394 families (sample).\n",
      "2022 describes the housing conditions of 20,585 families (sample).\n"
     ]
    }
   ],
   "source": [
    "# Inspect no. of families\n",
    "for year in df_dict_keys:\n",
    "    print(f\"{year} describes the housing conditions of {len(dict_df_EPF_all_households[year]['NUMERO'].unique()):,} families (sample).\")    "
   ]
  },
  {
   "cell_type": "markdown",
   "metadata": {},
   "source": [
    "> As expected this information matches the one displayed in the expenses' table."
   ]
  },
  {
   "cell_type": "markdown",
   "metadata": {},
   "source": [
    "> Additionaly we could use the population factor to see how many families are represented by these samples."
   ]
  },
  {
   "cell_type": "code",
   "execution_count": 26,
   "metadata": {},
   "outputs": [
    {
     "name": "stdout",
     "output_type": "stream",
     "text": [
      "2018 describes the housing conditions of 16,250,884.721614044 families (population).\n",
      "2019 describes the housing conditions of 16,382,540.574927999 families (population).\n",
      "2020 describes the housing conditions of 16,639,759.770363979 families (population).\n",
      "2021 describes the housing conditions of 16,417,174.825565014 families (population).\n",
      "2022 describes the housing conditions of 16,713,176.268896982 families (population).\n"
     ]
    }
   ],
   "source": [
    "# Inspect no. of families\n",
    "for year in df_dict_keys:\n",
    "    print(f\"{year} describes the housing conditions of {sum(dict_df_EPF_all_households[year]['FACTOR'].unique()):,} families (population).\")    "
   ]
  },
  {
   "cell_type": "code",
   "execution_count": 27,
   "metadata": {},
   "outputs": [
    {
     "data": {
      "text/html": [
       "<div>\n",
       "<style scoped>\n",
       "    .dataframe tbody tr th:only-of-type {\n",
       "        vertical-align: middle;\n",
       "    }\n",
       "\n",
       "    .dataframe tbody tr th {\n",
       "        vertical-align: top;\n",
       "    }\n",
       "\n",
       "    .dataframe thead th {\n",
       "        text-align: right;\n",
       "    }\n",
       "</style>\n",
       "<table border=\"1\" class=\"dataframe\">\n",
       "  <thead>\n",
       "    <tr style=\"text-align: right;\">\n",
       "      <th></th>\n",
       "      <th>ANOENC</th>\n",
       "      <th>NUMERO</th>\n",
       "      <th>CCAA</th>\n",
       "      <th>NUTS1</th>\n",
       "      <th>CAPROV</th>\n",
       "      <th>TAMAMU</th>\n",
       "      <th>DENSIDAD</th>\n",
       "      <th>CLAVE</th>\n",
       "      <th>CLATEO</th>\n",
       "      <th>FACTOR</th>\n",
       "      <th>...</th>\n",
       "      <th>RENTAS</th>\n",
       "      <th>OTROIN</th>\n",
       "      <th>IMPEXAC</th>\n",
       "      <th>INTERIN</th>\n",
       "      <th>NUMPERI</th>\n",
       "      <th>COMIMH</th>\n",
       "      <th>COMISD</th>\n",
       "      <th>COMIHU</th>\n",
       "      <th>COMIINV</th>\n",
       "      <th>COMITOT</th>\n",
       "    </tr>\n",
       "  </thead>\n",
       "  <tbody>\n",
       "    <tr>\n",
       "      <th>count</th>\n",
       "      <td>21395.0</td>\n",
       "      <td>21395.000000</td>\n",
       "      <td>21395.000000</td>\n",
       "      <td>21395.000000</td>\n",
       "      <td>21395.000000</td>\n",
       "      <td>21395.000000</td>\n",
       "      <td>21395.000000</td>\n",
       "      <td>21395.000000</td>\n",
       "      <td>21395.000000</td>\n",
       "      <td>21395.000000</td>\n",
       "      <td>...</td>\n",
       "      <td>21395.000000</td>\n",
       "      <td>21395.000000</td>\n",
       "      <td>21395.000000</td>\n",
       "      <td>21395.000000</td>\n",
       "      <td>21395.000000</td>\n",
       "      <td>21395.000000</td>\n",
       "      <td>21395.000000</td>\n",
       "      <td>21395.000000</td>\n",
       "      <td>21395.000000</td>\n",
       "      <td>21395.000000</td>\n",
       "    </tr>\n",
       "    <tr>\n",
       "      <th>mean</th>\n",
       "      <td>2018.0</td>\n",
       "      <td>10698.000000</td>\n",
       "      <td>9.094835</td>\n",
       "      <td>3.749942</td>\n",
       "      <td>4.296565</td>\n",
       "      <td>2.715074</td>\n",
       "      <td>1.813788</td>\n",
       "      <td>1.422622</td>\n",
       "      <td>1.522038</td>\n",
       "      <td>870.655626</td>\n",
       "      <td>...</td>\n",
       "      <td>5.559477</td>\n",
       "      <td>5.788035</td>\n",
       "      <td>2155.686282</td>\n",
       "      <td>4.458565</td>\n",
       "      <td>1.589297</td>\n",
       "      <td>60.500444</td>\n",
       "      <td>0.118766</td>\n",
       "      <td>0.136060</td>\n",
       "      <td>4.220799</td>\n",
       "      <td>64.978593</td>\n",
       "    </tr>\n",
       "    <tr>\n",
       "      <th>std</th>\n",
       "      <td>0.0</td>\n",
       "      <td>6176.348841</td>\n",
       "      <td>5.015944</td>\n",
       "      <td>1.842902</td>\n",
       "      <td>2.369757</td>\n",
       "      <td>1.610837</td>\n",
       "      <td>0.847493</td>\n",
       "      <td>0.493988</td>\n",
       "      <td>0.499526</td>\n",
       "      <td>615.040256</td>\n",
       "      <td>...</td>\n",
       "      <td>1.585391</td>\n",
       "      <td>1.232785</td>\n",
       "      <td>1432.750748</td>\n",
       "      <td>1.937125</td>\n",
       "      <td>1.178040</td>\n",
       "      <td>31.919562</td>\n",
       "      <td>1.650964</td>\n",
       "      <td>2.216172</td>\n",
       "      <td>10.935581</td>\n",
       "      <td>33.321940</td>\n",
       "    </tr>\n",
       "    <tr>\n",
       "      <th>min</th>\n",
       "      <td>2018.0</td>\n",
       "      <td>1.000000</td>\n",
       "      <td>1.000000</td>\n",
       "      <td>1.000000</td>\n",
       "      <td>1.000000</td>\n",
       "      <td>1.000000</td>\n",
       "      <td>1.000000</td>\n",
       "      <td>1.000000</td>\n",
       "      <td>1.000000</td>\n",
       "      <td>64.061002</td>\n",
       "      <td>...</td>\n",
       "      <td>-9.000000</td>\n",
       "      <td>-9.000000</td>\n",
       "      <td>0.000000</td>\n",
       "      <td>1.000000</td>\n",
       "      <td>-9.000000</td>\n",
       "      <td>-9.000000</td>\n",
       "      <td>-9.000000</td>\n",
       "      <td>-9.000000</td>\n",
       "      <td>-9.000000</td>\n",
       "      <td>-9.000000</td>\n",
       "    </tr>\n",
       "    <tr>\n",
       "      <th>25%</th>\n",
       "      <td>2018.0</td>\n",
       "      <td>5349.500000</td>\n",
       "      <td>5.000000</td>\n",
       "      <td>2.000000</td>\n",
       "      <td>1.000000</td>\n",
       "      <td>1.000000</td>\n",
       "      <td>1.000000</td>\n",
       "      <td>1.000000</td>\n",
       "      <td>1.000000</td>\n",
       "      <td>420.004649</td>\n",
       "      <td>...</td>\n",
       "      <td>6.000000</td>\n",
       "      <td>6.000000</td>\n",
       "      <td>1209.000000</td>\n",
       "      <td>3.000000</td>\n",
       "      <td>1.000000</td>\n",
       "      <td>34.000000</td>\n",
       "      <td>0.000000</td>\n",
       "      <td>0.000000</td>\n",
       "      <td>0.000000</td>\n",
       "      <td>41.000000</td>\n",
       "    </tr>\n",
       "    <tr>\n",
       "      <th>50%</th>\n",
       "      <td>2018.0</td>\n",
       "      <td>10698.000000</td>\n",
       "      <td>9.000000</td>\n",
       "      <td>4.000000</td>\n",
       "      <td>6.000000</td>\n",
       "      <td>3.000000</td>\n",
       "      <td>2.000000</td>\n",
       "      <td>1.000000</td>\n",
       "      <td>2.000000</td>\n",
       "      <td>689.051204</td>\n",
       "      <td>...</td>\n",
       "      <td>6.000000</td>\n",
       "      <td>6.000000</td>\n",
       "      <td>1800.000000</td>\n",
       "      <td>4.000000</td>\n",
       "      <td>2.000000</td>\n",
       "      <td>56.000000</td>\n",
       "      <td>0.000000</td>\n",
       "      <td>0.000000</td>\n",
       "      <td>0.000000</td>\n",
       "      <td>59.000000</td>\n",
       "    </tr>\n",
       "    <tr>\n",
       "      <th>75%</th>\n",
       "      <td>2018.0</td>\n",
       "      <td>16046.500000</td>\n",
       "      <td>13.000000</td>\n",
       "      <td>5.000000</td>\n",
       "      <td>6.000000</td>\n",
       "      <td>4.000000</td>\n",
       "      <td>3.000000</td>\n",
       "      <td>2.000000</td>\n",
       "      <td>2.000000</td>\n",
       "      <td>1182.371731</td>\n",
       "      <td>...</td>\n",
       "      <td>6.000000</td>\n",
       "      <td>6.000000</td>\n",
       "      <td>2736.000000</td>\n",
       "      <td>6.000000</td>\n",
       "      <td>2.000000</td>\n",
       "      <td>82.000000</td>\n",
       "      <td>0.000000</td>\n",
       "      <td>0.000000</td>\n",
       "      <td>3.000000</td>\n",
       "      <td>84.000000</td>\n",
       "    </tr>\n",
       "    <tr>\n",
       "      <th>max</th>\n",
       "      <td>2018.0</td>\n",
       "      <td>21395.000000</td>\n",
       "      <td>19.000000</td>\n",
       "      <td>7.000000</td>\n",
       "      <td>6.000000</td>\n",
       "      <td>5.000000</td>\n",
       "      <td>3.000000</td>\n",
       "      <td>2.000000</td>\n",
       "      <td>2.000000</td>\n",
       "      <td>6121.820126</td>\n",
       "      <td>...</td>\n",
       "      <td>6.000000</td>\n",
       "      <td>6.000000</td>\n",
       "      <td>17500.000000</td>\n",
       "      <td>10.000000</td>\n",
       "      <td>7.000000</td>\n",
       "      <td>308.000000</td>\n",
       "      <td>56.000000</td>\n",
       "      <td>125.000000</td>\n",
       "      <td>196.000000</td>\n",
       "      <td>308.000000</td>\n",
       "    </tr>\n",
       "  </tbody>\n",
       "</table>\n",
       "<p>8 rows × 127 columns</p>\n",
       "</div>"
      ],
      "text/plain": [
       "        ANOENC        NUMERO          CCAA         NUTS1        CAPROV  \\\n",
       "count  21395.0  21395.000000  21395.000000  21395.000000  21395.000000   \n",
       "mean    2018.0  10698.000000      9.094835      3.749942      4.296565   \n",
       "std        0.0   6176.348841      5.015944      1.842902      2.369757   \n",
       "min     2018.0      1.000000      1.000000      1.000000      1.000000   \n",
       "25%     2018.0   5349.500000      5.000000      2.000000      1.000000   \n",
       "50%     2018.0  10698.000000      9.000000      4.000000      6.000000   \n",
       "75%     2018.0  16046.500000     13.000000      5.000000      6.000000   \n",
       "max     2018.0  21395.000000     19.000000      7.000000      6.000000   \n",
       "\n",
       "             TAMAMU      DENSIDAD         CLAVE        CLATEO        FACTOR  \\\n",
       "count  21395.000000  21395.000000  21395.000000  21395.000000  21395.000000   \n",
       "mean       2.715074      1.813788      1.422622      1.522038    870.655626   \n",
       "std        1.610837      0.847493      0.493988      0.499526    615.040256   \n",
       "min        1.000000      1.000000      1.000000      1.000000     64.061002   \n",
       "25%        1.000000      1.000000      1.000000      1.000000    420.004649   \n",
       "50%        3.000000      2.000000      1.000000      2.000000    689.051204   \n",
       "75%        4.000000      3.000000      2.000000      2.000000   1182.371731   \n",
       "max        5.000000      3.000000      2.000000      2.000000   6121.820126   \n",
       "\n",
       "       ...        RENTAS        OTROIN       IMPEXAC       INTERIN  \\\n",
       "count  ...  21395.000000  21395.000000  21395.000000  21395.000000   \n",
       "mean   ...      5.559477      5.788035   2155.686282      4.458565   \n",
       "std    ...      1.585391      1.232785   1432.750748      1.937125   \n",
       "min    ...     -9.000000     -9.000000      0.000000      1.000000   \n",
       "25%    ...      6.000000      6.000000   1209.000000      3.000000   \n",
       "50%    ...      6.000000      6.000000   1800.000000      4.000000   \n",
       "75%    ...      6.000000      6.000000   2736.000000      6.000000   \n",
       "max    ...      6.000000      6.000000  17500.000000     10.000000   \n",
       "\n",
       "            NUMPERI        COMIMH        COMISD        COMIHU       COMIINV  \\\n",
       "count  21395.000000  21395.000000  21395.000000  21395.000000  21395.000000   \n",
       "mean       1.589297     60.500444      0.118766      0.136060      4.220799   \n",
       "std        1.178040     31.919562      1.650964      2.216172     10.935581   \n",
       "min       -9.000000     -9.000000     -9.000000     -9.000000     -9.000000   \n",
       "25%        1.000000     34.000000      0.000000      0.000000      0.000000   \n",
       "50%        2.000000     56.000000      0.000000      0.000000      0.000000   \n",
       "75%        2.000000     82.000000      0.000000      0.000000      3.000000   \n",
       "max        7.000000    308.000000     56.000000    125.000000    196.000000   \n",
       "\n",
       "            COMITOT  \n",
       "count  21395.000000  \n",
       "mean      64.978593  \n",
       "std       33.321940  \n",
       "min       -9.000000  \n",
       "25%       41.000000  \n",
       "50%       59.000000  \n",
       "75%       84.000000  \n",
       "max      308.000000  \n",
       "\n",
       "[8 rows x 127 columns]"
      ]
     },
     "execution_count": 27,
     "metadata": {},
     "output_type": "execute_result"
    }
   ],
   "source": [
    "# Look at statistics\n",
    "dict_df_EPF_all_households['2018'].describe()"
   ]
  },
  {
   "cell_type": "code",
   "execution_count": 28,
   "metadata": {},
   "outputs": [
    {
     "data": {
      "text/html": [
       "<div>\n",
       "<style scoped>\n",
       "    .dataframe tbody tr th:only-of-type {\n",
       "        vertical-align: middle;\n",
       "    }\n",
       "\n",
       "    .dataframe tbody tr th {\n",
       "        vertical-align: top;\n",
       "    }\n",
       "\n",
       "    .dataframe thead th {\n",
       "        text-align: right;\n",
       "    }\n",
       "</style>\n",
       "<table border=\"1\" class=\"dataframe\">\n",
       "  <thead>\n",
       "    <tr style=\"text-align: right;\">\n",
       "      <th></th>\n",
       "      <th>PAISSP</th>\n",
       "      <th>UNIONSP</th>\n",
       "      <th>JORNADASP</th>\n",
       "      <th>INTERINPSP</th>\n",
       "      <th>OCUPA</th>\n",
       "      <th>OCUPARED</th>\n",
       "      <th>ACTESTB</th>\n",
       "      <th>ACTESTBRED</th>\n",
       "      <th>SITPROF</th>\n",
       "      <th>SECTOR</th>\n",
       "      <th>...</th>\n",
       "      <th>FUENACV8</th>\n",
       "      <th>CALEFV8</th>\n",
       "      <th>FUENCAV8</th>\n",
       "      <th>REGTENV9</th>\n",
       "      <th>AGUACV9</th>\n",
       "      <th>FUENACV9</th>\n",
       "      <th>CALEFV9</th>\n",
       "      <th>FUENCAV9</th>\n",
       "      <th>FUENPRIN</th>\n",
       "      <th>FUENPRINRED</th>\n",
       "    </tr>\n",
       "  </thead>\n",
       "  <tbody>\n",
       "    <tr>\n",
       "      <th>count</th>\n",
       "      <td>20585</td>\n",
       "      <td>20585</td>\n",
       "      <td>20585</td>\n",
       "      <td>20585</td>\n",
       "      <td>20585</td>\n",
       "      <td>20585</td>\n",
       "      <td>20585</td>\n",
       "      <td>20585</td>\n",
       "      <td>20585</td>\n",
       "      <td>20585</td>\n",
       "      <td>...</td>\n",
       "      <td>20585</td>\n",
       "      <td>20585</td>\n",
       "      <td>20585</td>\n",
       "      <td>20585</td>\n",
       "      <td>20585</td>\n",
       "      <td>20585</td>\n",
       "      <td>20585</td>\n",
       "      <td>20585</td>\n",
       "      <td>20585</td>\n",
       "      <td>20585</td>\n",
       "    </tr>\n",
       "    <tr>\n",
       "      <th>unique</th>\n",
       "      <td>4</td>\n",
       "      <td>4</td>\n",
       "      <td>3</td>\n",
       "      <td>9</td>\n",
       "      <td>12</td>\n",
       "      <td>7</td>\n",
       "      <td>22</td>\n",
       "      <td>5</td>\n",
       "      <td>6</td>\n",
       "      <td>4</td>\n",
       "      <td>...</td>\n",
       "      <td>1</td>\n",
       "      <td>1</td>\n",
       "      <td>1</td>\n",
       "      <td>1</td>\n",
       "      <td>1</td>\n",
       "      <td>1</td>\n",
       "      <td>1</td>\n",
       "      <td>1</td>\n",
       "      <td>9</td>\n",
       "      <td>5</td>\n",
       "    </tr>\n",
       "    <tr>\n",
       "      <th>top</th>\n",
       "      <td></td>\n",
       "      <td>1</td>\n",
       "      <td>1</td>\n",
       "      <td>03</td>\n",
       "      <td>2</td>\n",
       "      <td>2</td>\n",
       "      <td>C</td>\n",
       "      <td>3</td>\n",
       "      <td>1</td>\n",
       "      <td>6</td>\n",
       "      <td>...</td>\n",
       "      <td></td>\n",
       "      <td></td>\n",
       "      <td></td>\n",
       "      <td></td>\n",
       "      <td></td>\n",
       "      <td></td>\n",
       "      <td></td>\n",
       "      <td></td>\n",
       "      <td>2</td>\n",
       "      <td>2</td>\n",
       "    </tr>\n",
       "    <tr>\n",
       "      <th>freq</th>\n",
       "      <td>18938</td>\n",
       "      <td>11391</td>\n",
       "      <td>11941</td>\n",
       "      <td>6309</td>\n",
       "      <td>3538</td>\n",
       "      <td>5963</td>\n",
       "      <td>3435</td>\n",
       "      <td>13277</td>\n",
       "      <td>16761</td>\n",
       "      <td>12325</td>\n",
       "      <td>...</td>\n",
       "      <td>20585</td>\n",
       "      <td>20585</td>\n",
       "      <td>20585</td>\n",
       "      <td>20585</td>\n",
       "      <td>20585</td>\n",
       "      <td>20585</td>\n",
       "      <td>20585</td>\n",
       "      <td>20585</td>\n",
       "      <td>10378</td>\n",
       "      <td>10378</td>\n",
       "    </tr>\n",
       "  </tbody>\n",
       "</table>\n",
       "<p>4 rows × 61 columns</p>\n",
       "</div>"
      ],
      "text/plain": [
       "       PAISSP UNIONSP JORNADASP INTERINPSP  OCUPA OCUPARED ACTESTB ACTESTBRED  \\\n",
       "count   20585   20585     20585      20585  20585    20585   20585      20585   \n",
       "unique      4       4         3          9     12        7      22          5   \n",
       "top                 1         1         03      2        2       C          3   \n",
       "freq    18938   11391     11941       6309   3538     5963    3435      13277   \n",
       "\n",
       "       SITPROF SECTOR  ... FUENACV8 CALEFV8 FUENCAV8 REGTENV9 AGUACV9  \\\n",
       "count    20585  20585  ...    20585   20585    20585    20585   20585   \n",
       "unique       6      4  ...        1       1        1        1       1   \n",
       "top          1      6  ...                                              \n",
       "freq     16761  12325  ...    20585   20585    20585    20585   20585   \n",
       "\n",
       "       FUENACV9 CALEFV9 FUENCAV9 FUENPRIN FUENPRINRED  \n",
       "count     20585   20585    20585    20585       20585  \n",
       "unique        1       1        1        9           5  \n",
       "top                                     2           2  \n",
       "freq      20585   20585    20585    10378       10378  \n",
       "\n",
       "[4 rows x 61 columns]"
      ]
     },
     "execution_count": 28,
     "metadata": {},
     "output_type": "execute_result"
    }
   ],
   "source": [
    "# Look at statistics for categorical variables\n",
    "dict_df_EPF_all_households['2022'].describe(include = 'object')"
   ]
  },
  {
   "cell_type": "markdown",
   "metadata": {},
   "source": [
    "**Inspection of the household members' table:**"
   ]
  },
  {
   "cell_type": "code",
   "execution_count": 29,
   "metadata": {},
   "outputs": [
    {
     "data": {
      "text/html": [
       "<div>\n",
       "<style scoped>\n",
       "    .dataframe tbody tr th:only-of-type {\n",
       "        vertical-align: middle;\n",
       "    }\n",
       "\n",
       "    .dataframe tbody tr th {\n",
       "        vertical-align: top;\n",
       "    }\n",
       "\n",
       "    .dataframe thead th {\n",
       "        text-align: right;\n",
       "    }\n",
       "</style>\n",
       "<table border=\"1\" class=\"dataframe\">\n",
       "  <thead>\n",
       "    <tr style=\"text-align: right;\">\n",
       "      <th></th>\n",
       "      <th>ANOENC</th>\n",
       "      <th>NUMERO</th>\n",
       "      <th>NORDEN</th>\n",
       "      <th>CATEGMH</th>\n",
       "      <th>SUSPRIN</th>\n",
       "      <th>RELASP</th>\n",
       "      <th>EDAD</th>\n",
       "      <th>SEXO</th>\n",
       "      <th>PAISNACIM</th>\n",
       "      <th>NACIONA</th>\n",
       "      <th>...</th>\n",
       "      <th>SITURED</th>\n",
       "      <th>OCU</th>\n",
       "      <th>JORNADA</th>\n",
       "      <th>PERCEP</th>\n",
       "      <th>IMPEXACP</th>\n",
       "      <th>INTERINP</th>\n",
       "      <th>NINODEP</th>\n",
       "      <th>HIJODEP</th>\n",
       "      <th>ADULTO</th>\n",
       "      <th>FACTOR</th>\n",
       "    </tr>\n",
       "  </thead>\n",
       "  <tbody>\n",
       "    <tr>\n",
       "      <th>0</th>\n",
       "      <td>2018</td>\n",
       "      <td>1</td>\n",
       "      <td>1</td>\n",
       "      <td>1</td>\n",
       "      <td>1</td>\n",
       "      <td>1</td>\n",
       "      <td>53</td>\n",
       "      <td>1</td>\n",
       "      <td>1</td>\n",
       "      <td>1</td>\n",
       "      <td>...</td>\n",
       "      <td>1</td>\n",
       "      <td>1</td>\n",
       "      <td>1</td>\n",
       "      <td>1</td>\n",
       "      <td>-9.0</td>\n",
       "      <td>03</td>\n",
       "      <td>6</td>\n",
       "      <td>6</td>\n",
       "      <td>1</td>\n",
       "      <td>422.866646</td>\n",
       "    </tr>\n",
       "    <tr>\n",
       "      <th>1</th>\n",
       "      <td>2018</td>\n",
       "      <td>1</td>\n",
       "      <td>2</td>\n",
       "      <td>1</td>\n",
       "      <td>6</td>\n",
       "      <td>2</td>\n",
       "      <td>53</td>\n",
       "      <td>6</td>\n",
       "      <td>1</td>\n",
       "      <td>1</td>\n",
       "      <td>...</td>\n",
       "      <td>1</td>\n",
       "      <td>1</td>\n",
       "      <td>1</td>\n",
       "      <td>1</td>\n",
       "      <td>-9.0</td>\n",
       "      <td>03</td>\n",
       "      <td>6</td>\n",
       "      <td>6</td>\n",
       "      <td>1</td>\n",
       "      <td>422.866646</td>\n",
       "    </tr>\n",
       "    <tr>\n",
       "      <th>2</th>\n",
       "      <td>2018</td>\n",
       "      <td>2</td>\n",
       "      <td>1</td>\n",
       "      <td>1</td>\n",
       "      <td>1</td>\n",
       "      <td>1</td>\n",
       "      <td>43</td>\n",
       "      <td>1</td>\n",
       "      <td>1</td>\n",
       "      <td>1</td>\n",
       "      <td>...</td>\n",
       "      <td>1</td>\n",
       "      <td>1</td>\n",
       "      <td>1</td>\n",
       "      <td>1</td>\n",
       "      <td>-9.0</td>\n",
       "      <td>04</td>\n",
       "      <td>6</td>\n",
       "      <td>6</td>\n",
       "      <td>1</td>\n",
       "      <td>2051.951724</td>\n",
       "    </tr>\n",
       "    <tr>\n",
       "      <th>3</th>\n",
       "      <td>2018</td>\n",
       "      <td>2</td>\n",
       "      <td>2</td>\n",
       "      <td>1</td>\n",
       "      <td>6</td>\n",
       "      <td>2</td>\n",
       "      <td>42</td>\n",
       "      <td>6</td>\n",
       "      <td>1</td>\n",
       "      <td>1</td>\n",
       "      <td>...</td>\n",
       "      <td>1</td>\n",
       "      <td>1</td>\n",
       "      <td>1</td>\n",
       "      <td>1</td>\n",
       "      <td>-9.0</td>\n",
       "      <td>03</td>\n",
       "      <td>6</td>\n",
       "      <td>6</td>\n",
       "      <td>1</td>\n",
       "      <td>2051.951724</td>\n",
       "    </tr>\n",
       "    <tr>\n",
       "      <th>4</th>\n",
       "      <td>2018</td>\n",
       "      <td>2</td>\n",
       "      <td>3</td>\n",
       "      <td>1</td>\n",
       "      <td>6</td>\n",
       "      <td>3</td>\n",
       "      <td>9</td>\n",
       "      <td>6</td>\n",
       "      <td>1</td>\n",
       "      <td>1</td>\n",
       "      <td>...</td>\n",
       "      <td></td>\n",
       "      <td></td>\n",
       "      <td></td>\n",
       "      <td>6</td>\n",
       "      <td>NaN</td>\n",
       "      <td></td>\n",
       "      <td>1</td>\n",
       "      <td>1</td>\n",
       "      <td>6</td>\n",
       "      <td>2051.951724</td>\n",
       "    </tr>\n",
       "  </tbody>\n",
       "</table>\n",
       "<p>5 rows × 33 columns</p>\n",
       "</div>"
      ],
      "text/plain": [
       "   ANOENC  NUMERO  NORDEN  CATEGMH  SUSPRIN  RELASP  EDAD  SEXO  PAISNACIM  \\\n",
       "0    2018       1       1        1        1       1    53     1          1   \n",
       "1    2018       1       2        1        6       2    53     6          1   \n",
       "2    2018       2       1        1        1       1    43     1          1   \n",
       "3    2018       2       2        1        6       2    42     6          1   \n",
       "4    2018       2       3        1        6       3     9     6          1   \n",
       "\n",
       "   NACIONA  ... SITURED  OCU  JORNADA  PERCEP IMPEXACP  INTERINP  NINODEP  \\\n",
       "0        1  ...       1    1        1       1     -9.0        03        6   \n",
       "1        1  ...       1    1        1       1     -9.0        03        6   \n",
       "2        1  ...       1    1        1       1     -9.0        04        6   \n",
       "3        1  ...       1    1        1       1     -9.0        03        6   \n",
       "4        1  ...                             6      NaN                  1   \n",
       "\n",
       "   HIJODEP  ADULTO       FACTOR  \n",
       "0        6       1   422.866646  \n",
       "1        6       1   422.866646  \n",
       "2        6       1  2051.951724  \n",
       "3        6       1  2051.951724  \n",
       "4        1       6  2051.951724  \n",
       "\n",
       "[5 rows x 33 columns]"
      ]
     },
     "execution_count": 29,
     "metadata": {},
     "output_type": "execute_result"
    }
   ],
   "source": [
    "# Visual inspection \n",
    "dict_df_EPF_all_memberHouseholds['2018'].head()"
   ]
  },
  {
   "cell_type": "code",
   "execution_count": 30,
   "metadata": {},
   "outputs": [
    {
     "name": "stdout",
     "output_type": "stream",
     "text": [
      "<class 'pandas.core.frame.DataFrame'>\n",
      "RangeIndex: 54037 entries, 0 to 54036\n",
      "Data columns (total 33 columns):\n",
      " #   Column       Non-Null Count  Dtype  \n",
      "---  ------       --------------  -----  \n",
      " 0   ANOENC       54037 non-null  int64  \n",
      " 1   NUMERO       54037 non-null  int64  \n",
      " 2   NORDEN       54037 non-null  int64  \n",
      " 3   CATEGMH      54037 non-null  int64  \n",
      " 4   SUSPRIN      54037 non-null  int64  \n",
      " 5   RELASP       54037 non-null  int64  \n",
      " 6   EDAD         54037 non-null  int64  \n",
      " 7   SEXO         54037 non-null  int64  \n",
      " 8   PAISNACIM    54037 non-null  int64  \n",
      " 9   NACIONA      54037 non-null  int64  \n",
      " 10  PAISNACION   54037 non-null  object \n",
      " 11  SITURES      54037 non-null  int64  \n",
      " 12  ECIVILLEGAL  54037 non-null  int64  \n",
      " 13  NORDENCO     54037 non-null  int64  \n",
      " 14  UNION        54037 non-null  object \n",
      " 15  CONVIVENCIA  54037 non-null  int64  \n",
      " 16  NORDENPA     54037 non-null  int64  \n",
      " 17  PAISPADRE    54037 non-null  int64  \n",
      " 18  NORDENMA     54037 non-null  int64  \n",
      " 19  PAISMADRE    54037 non-null  int64  \n",
      " 20  ESTUDIOS     54037 non-null  object \n",
      " 21  ESTUDRED     54037 non-null  object \n",
      " 22  SITUACT      54037 non-null  object \n",
      " 23  SITURED      54037 non-null  object \n",
      " 24  OCU          54037 non-null  object \n",
      " 25  JORNADA      54037 non-null  object \n",
      " 26  PERCEP       54037 non-null  int64  \n",
      " 27  IMPEXACP     35275 non-null  float64\n",
      " 28  INTERINP     54037 non-null  object \n",
      " 29  NINODEP      54037 non-null  int64  \n",
      " 30  HIJODEP      54037 non-null  int64  \n",
      " 31  ADULTO       54037 non-null  int64  \n",
      " 32  FACTOR       54037 non-null  float64\n",
      "dtypes: float64(2), int64(22), object(9)\n",
      "memory usage: 13.6+ MB\n"
     ]
    }
   ],
   "source": [
    "# Display basic information\n",
    "dict_df_EPF_all_memberHouseholds['2019'].info()"
   ]
  },
  {
   "cell_type": "code",
   "execution_count": 31,
   "metadata": {},
   "outputs": [
    {
     "data": {
      "text/plain": [
       "str"
      ]
     },
     "execution_count": 31,
     "metadata": {},
     "output_type": "execute_result"
    }
   ],
   "source": [
    "# Verify the data types of 'PAISNACION'\n",
    "type(dict_df_EPF_all_memberHouseholds['2021']['PAISNACION'][0])"
   ]
  },
  {
   "cell_type": "code",
   "execution_count": 32,
   "metadata": {},
   "outputs": [
    {
     "data": {
      "text/plain": [
       "ANOENC             1\n",
       "NUMERO         21395\n",
       "NORDEN            11\n",
       "CATEGMH            4\n",
       "SUSPRIN            2\n",
       "RELASP             6\n",
       "EDAD              86\n",
       "SEXO               2\n",
       "PAISNACIM          4\n",
       "NACIONA            3\n",
       "PAISNACION         4\n",
       "SITURES            2\n",
       "ECIVILLEGAL        5\n",
       "NORDENCO          11\n",
       "UNION              4\n",
       "CONVIVENCIA        3\n",
       "NORDENPA          10\n",
       "PAISPADRE          5\n",
       "NORDENMA          11\n",
       "PAISMADRE          5\n",
       "ESTUDIOS          10\n",
       "ESTUDRED           6\n",
       "SITUACT           10\n",
       "SITURED            4\n",
       "OCU                4\n",
       "JORNADA            3\n",
       "PERCEP             3\n",
       "IMPEXACP        1797\n",
       "INTERINP           9\n",
       "NINODEP            3\n",
       "HIJODEP            3\n",
       "ADULTO             3\n",
       "FACTOR         18363\n",
       "dtype: int64"
      ]
     },
     "execution_count": 32,
     "metadata": {},
     "output_type": "execute_result"
    }
   ],
   "source": [
    "# Look at unique values\n",
    "dict_df_EPF_all_memberHouseholds['2018'].nunique()"
   ]
  },
  {
   "cell_type": "code",
   "execution_count": 33,
   "metadata": {},
   "outputs": [
    {
     "data": {
      "text/plain": [
       "0"
      ]
     },
     "execution_count": 33,
     "metadata": {},
     "output_type": "execute_result"
    }
   ],
   "source": [
    "# Look at duplicated values\n",
    "sum(dict_df_EPF_all_memberHouseholds['2018'].duplicated())"
   ]
  },
  {
   "cell_type": "code",
   "execution_count": 34,
   "metadata": {},
   "outputs": [
    {
     "name": "stdout",
     "output_type": "stream",
     "text": [
      "2018 household's info table is composed by 55,725 rows and 33 columns.\n",
      "2019 household's info table is composed by 54,037 rows and 33 columns.\n",
      "2020 household's info table is composed by 49,423 rows and 33 columns.\n",
      "2021 household's info table is composed by 49,404 rows and 33 columns.\n",
      "2022 household's info table is composed by 52,148 rows and 33 columns.\n"
     ]
    }
   ],
   "source": [
    "# Inspect shape of all datasets\n",
    "for year in df_dict_keys:\n",
    "    print(f\"{year} household's info table is composed by {dict_df_EPF_all_memberHouseholds[year].shape[0]:,} rows and {dict_df_EPF_all_memberHouseholds[year].shape[1]} columns.\")"
   ]
  },
  {
   "cell_type": "code",
   "execution_count": 35,
   "metadata": {},
   "outputs": [
    {
     "data": {
      "text/html": [
       "<div>\n",
       "<style scoped>\n",
       "    .dataframe tbody tr th:only-of-type {\n",
       "        vertical-align: middle;\n",
       "    }\n",
       "\n",
       "    .dataframe tbody tr th {\n",
       "        vertical-align: top;\n",
       "    }\n",
       "\n",
       "    .dataframe thead th {\n",
       "        text-align: right;\n",
       "    }\n",
       "</style>\n",
       "<table border=\"1\" class=\"dataframe\">\n",
       "  <thead>\n",
       "    <tr style=\"text-align: right;\">\n",
       "      <th></th>\n",
       "      <th>ANOENC</th>\n",
       "      <th>NUMERO</th>\n",
       "      <th>NORDEN</th>\n",
       "      <th>CATEGMH</th>\n",
       "      <th>SUSPRIN</th>\n",
       "      <th>RELASP</th>\n",
       "      <th>EDAD</th>\n",
       "      <th>SEXO</th>\n",
       "      <th>PAISNACIM</th>\n",
       "      <th>NACIONA</th>\n",
       "      <th>...</th>\n",
       "      <th>NORDENPA</th>\n",
       "      <th>PAISPADRE</th>\n",
       "      <th>NORDENMA</th>\n",
       "      <th>PAISMADRE</th>\n",
       "      <th>PERCEP</th>\n",
       "      <th>IMPEXACP</th>\n",
       "      <th>NINODEP</th>\n",
       "      <th>HIJODEP</th>\n",
       "      <th>ADULTO</th>\n",
       "      <th>FACTOR</th>\n",
       "    </tr>\n",
       "  </thead>\n",
       "  <tbody>\n",
       "    <tr>\n",
       "      <th>count</th>\n",
       "      <td>52148.0</td>\n",
       "      <td>52148.000000</td>\n",
       "      <td>52148.000000</td>\n",
       "      <td>52148.000000</td>\n",
       "      <td>52148.000000</td>\n",
       "      <td>52148.000000</td>\n",
       "      <td>52148.000000</td>\n",
       "      <td>52148.000000</td>\n",
       "      <td>52148.000000</td>\n",
       "      <td>52148.000000</td>\n",
       "      <td>...</td>\n",
       "      <td>52148.000000</td>\n",
       "      <td>52148.000000</td>\n",
       "      <td>52148.000000</td>\n",
       "      <td>52148.000000</td>\n",
       "      <td>52148.000000</td>\n",
       "      <td>35453.000000</td>\n",
       "      <td>52148.000000</td>\n",
       "      <td>52148.000000</td>\n",
       "      <td>52148.000000</td>\n",
       "      <td>52148.000000</td>\n",
       "    </tr>\n",
       "    <tr>\n",
       "      <th>mean</th>\n",
       "      <td>2022.0</td>\n",
       "      <td>10279.885633</td>\n",
       "      <td>2.073291</td>\n",
       "      <td>1.000978</td>\n",
       "      <td>4.026291</td>\n",
       "      <td>2.079389</td>\n",
       "      <td>43.753509</td>\n",
       "      <td>3.565487</td>\n",
       "      <td>1.230440</td>\n",
       "      <td>1.121117</td>\n",
       "      <td>...</td>\n",
       "      <td>73.816292</td>\n",
       "      <td>1.285553</td>\n",
       "      <td>68.204936</td>\n",
       "      <td>1.295735</td>\n",
       "      <td>2.315583</td>\n",
       "      <td>488.447296</td>\n",
       "      <td>4.852209</td>\n",
       "      <td>4.867262</td>\n",
       "      <td>2.146832</td>\n",
       "      <td>901.627944</td>\n",
       "    </tr>\n",
       "    <tr>\n",
       "      <th>std</th>\n",
       "      <td>0.0</td>\n",
       "      <td>5939.262859</td>\n",
       "      <td>1.146288</td>\n",
       "      <td>0.041763</td>\n",
       "      <td>2.443999</td>\n",
       "      <td>1.140530</td>\n",
       "      <td>22.481900</td>\n",
       "      <td>2.499166</td>\n",
       "      <td>0.766754</td>\n",
       "      <td>0.408808</td>\n",
       "      <td>...</td>\n",
       "      <td>42.742317</td>\n",
       "      <td>0.855987</td>\n",
       "      <td>45.218442</td>\n",
       "      <td>0.865681</td>\n",
       "      <td>3.020692</td>\n",
       "      <td>828.710403</td>\n",
       "      <td>2.104131</td>\n",
       "      <td>2.094381</td>\n",
       "      <td>2.103515</td>\n",
       "      <td>671.861765</td>\n",
       "    </tr>\n",
       "    <tr>\n",
       "      <th>min</th>\n",
       "      <td>2022.0</td>\n",
       "      <td>1.000000</td>\n",
       "      <td>1.000000</td>\n",
       "      <td>1.000000</td>\n",
       "      <td>1.000000</td>\n",
       "      <td>1.000000</td>\n",
       "      <td>0.000000</td>\n",
       "      <td>1.000000</td>\n",
       "      <td>1.000000</td>\n",
       "      <td>1.000000</td>\n",
       "      <td>...</td>\n",
       "      <td>1.000000</td>\n",
       "      <td>-9.000000</td>\n",
       "      <td>1.000000</td>\n",
       "      <td>-9.000000</td>\n",
       "      <td>-9.000000</td>\n",
       "      <td>-9.000000</td>\n",
       "      <td>-9.000000</td>\n",
       "      <td>-9.000000</td>\n",
       "      <td>-9.000000</td>\n",
       "      <td>48.270897</td>\n",
       "    </tr>\n",
       "    <tr>\n",
       "      <th>25%</th>\n",
       "      <td>2022.0</td>\n",
       "      <td>5132.000000</td>\n",
       "      <td>1.000000</td>\n",
       "      <td>1.000000</td>\n",
       "      <td>1.000000</td>\n",
       "      <td>1.000000</td>\n",
       "      <td>24.000000</td>\n",
       "      <td>1.000000</td>\n",
       "      <td>1.000000</td>\n",
       "      <td>1.000000</td>\n",
       "      <td>...</td>\n",
       "      <td>2.000000</td>\n",
       "      <td>1.000000</td>\n",
       "      <td>2.000000</td>\n",
       "      <td>1.000000</td>\n",
       "      <td>1.000000</td>\n",
       "      <td>-9.000000</td>\n",
       "      <td>6.000000</td>\n",
       "      <td>6.000000</td>\n",
       "      <td>1.000000</td>\n",
       "      <td>424.920887</td>\n",
       "    </tr>\n",
       "    <tr>\n",
       "      <th>50%</th>\n",
       "      <td>2022.0</td>\n",
       "      <td>10273.500000</td>\n",
       "      <td>2.000000</td>\n",
       "      <td>1.000000</td>\n",
       "      <td>6.000000</td>\n",
       "      <td>2.000000</td>\n",
       "      <td>47.000000</td>\n",
       "      <td>6.000000</td>\n",
       "      <td>1.000000</td>\n",
       "      <td>1.000000</td>\n",
       "      <td>...</td>\n",
       "      <td>99.000000</td>\n",
       "      <td>1.000000</td>\n",
       "      <td>99.000000</td>\n",
       "      <td>1.000000</td>\n",
       "      <td>1.000000</td>\n",
       "      <td>-9.000000</td>\n",
       "      <td>6.000000</td>\n",
       "      <td>6.000000</td>\n",
       "      <td>1.000000</td>\n",
       "      <td>709.770429</td>\n",
       "    </tr>\n",
       "    <tr>\n",
       "      <th>75%</th>\n",
       "      <td>2022.0</td>\n",
       "      <td>15420.250000</td>\n",
       "      <td>3.000000</td>\n",
       "      <td>1.000000</td>\n",
       "      <td>6.000000</td>\n",
       "      <td>3.000000</td>\n",
       "      <td>61.000000</td>\n",
       "      <td>6.000000</td>\n",
       "      <td>1.000000</td>\n",
       "      <td>1.000000</td>\n",
       "      <td>...</td>\n",
       "      <td>99.000000</td>\n",
       "      <td>1.000000</td>\n",
       "      <td>99.000000</td>\n",
       "      <td>1.000000</td>\n",
       "      <td>6.000000</td>\n",
       "      <td>926.000000</td>\n",
       "      <td>6.000000</td>\n",
       "      <td>6.000000</td>\n",
       "      <td>1.000000</td>\n",
       "      <td>1190.157681</td>\n",
       "    </tr>\n",
       "    <tr>\n",
       "      <th>max</th>\n",
       "      <td>2022.0</td>\n",
       "      <td>20585.000000</td>\n",
       "      <td>13.000000</td>\n",
       "      <td>4.000000</td>\n",
       "      <td>6.000000</td>\n",
       "      <td>6.000000</td>\n",
       "      <td>85.000000</td>\n",
       "      <td>6.000000</td>\n",
       "      <td>4.000000</td>\n",
       "      <td>3.000000</td>\n",
       "      <td>...</td>\n",
       "      <td>99.000000</td>\n",
       "      <td>4.000000</td>\n",
       "      <td>99.000000</td>\n",
       "      <td>4.000000</td>\n",
       "      <td>6.000000</td>\n",
       "      <td>17000.000000</td>\n",
       "      <td>6.000000</td>\n",
       "      <td>6.000000</td>\n",
       "      <td>6.000000</td>\n",
       "      <td>9983.726258</td>\n",
       "    </tr>\n",
       "  </tbody>\n",
       "</table>\n",
       "<p>8 rows × 24 columns</p>\n",
       "</div>"
      ],
      "text/plain": [
       "        ANOENC        NUMERO        NORDEN       CATEGMH       SUSPRIN  \\\n",
       "count  52148.0  52148.000000  52148.000000  52148.000000  52148.000000   \n",
       "mean    2022.0  10279.885633      2.073291      1.000978      4.026291   \n",
       "std        0.0   5939.262859      1.146288      0.041763      2.443999   \n",
       "min     2022.0      1.000000      1.000000      1.000000      1.000000   \n",
       "25%     2022.0   5132.000000      1.000000      1.000000      1.000000   \n",
       "50%     2022.0  10273.500000      2.000000      1.000000      6.000000   \n",
       "75%     2022.0  15420.250000      3.000000      1.000000      6.000000   \n",
       "max     2022.0  20585.000000     13.000000      4.000000      6.000000   \n",
       "\n",
       "             RELASP          EDAD          SEXO     PAISNACIM       NACIONA  \\\n",
       "count  52148.000000  52148.000000  52148.000000  52148.000000  52148.000000   \n",
       "mean       2.079389     43.753509      3.565487      1.230440      1.121117   \n",
       "std        1.140530     22.481900      2.499166      0.766754      0.408808   \n",
       "min        1.000000      0.000000      1.000000      1.000000      1.000000   \n",
       "25%        1.000000     24.000000      1.000000      1.000000      1.000000   \n",
       "50%        2.000000     47.000000      6.000000      1.000000      1.000000   \n",
       "75%        3.000000     61.000000      6.000000      1.000000      1.000000   \n",
       "max        6.000000     85.000000      6.000000      4.000000      3.000000   \n",
       "\n",
       "       ...      NORDENPA     PAISPADRE      NORDENMA     PAISMADRE  \\\n",
       "count  ...  52148.000000  52148.000000  52148.000000  52148.000000   \n",
       "mean   ...     73.816292      1.285553     68.204936      1.295735   \n",
       "std    ...     42.742317      0.855987     45.218442      0.865681   \n",
       "min    ...      1.000000     -9.000000      1.000000     -9.000000   \n",
       "25%    ...      2.000000      1.000000      2.000000      1.000000   \n",
       "50%    ...     99.000000      1.000000     99.000000      1.000000   \n",
       "75%    ...     99.000000      1.000000     99.000000      1.000000   \n",
       "max    ...     99.000000      4.000000     99.000000      4.000000   \n",
       "\n",
       "             PERCEP      IMPEXACP       NINODEP       HIJODEP        ADULTO  \\\n",
       "count  52148.000000  35453.000000  52148.000000  52148.000000  52148.000000   \n",
       "mean       2.315583    488.447296      4.852209      4.867262      2.146832   \n",
       "std        3.020692    828.710403      2.104131      2.094381      2.103515   \n",
       "min       -9.000000     -9.000000     -9.000000     -9.000000     -9.000000   \n",
       "25%        1.000000     -9.000000      6.000000      6.000000      1.000000   \n",
       "50%        1.000000     -9.000000      6.000000      6.000000      1.000000   \n",
       "75%        6.000000    926.000000      6.000000      6.000000      1.000000   \n",
       "max        6.000000  17000.000000      6.000000      6.000000      6.000000   \n",
       "\n",
       "             FACTOR  \n",
       "count  52148.000000  \n",
       "mean     901.627944  \n",
       "std      671.861765  \n",
       "min       48.270897  \n",
       "25%      424.920887  \n",
       "50%      709.770429  \n",
       "75%     1190.157681  \n",
       "max     9983.726258  \n",
       "\n",
       "[8 rows x 24 columns]"
      ]
     },
     "execution_count": 35,
     "metadata": {},
     "output_type": "execute_result"
    }
   ],
   "source": [
    "# Look at statistics\n",
    "dict_df_EPF_all_memberHouseholds['2022'].describe()"
   ]
  },
  {
   "cell_type": "code",
   "execution_count": 36,
   "metadata": {},
   "outputs": [
    {
     "data": {
      "text/html": [
       "<div>\n",
       "<style scoped>\n",
       "    .dataframe tbody tr th:only-of-type {\n",
       "        vertical-align: middle;\n",
       "    }\n",
       "\n",
       "    .dataframe tbody tr th {\n",
       "        vertical-align: top;\n",
       "    }\n",
       "\n",
       "    .dataframe thead th {\n",
       "        text-align: right;\n",
       "    }\n",
       "</style>\n",
       "<table border=\"1\" class=\"dataframe\">\n",
       "  <thead>\n",
       "    <tr style=\"text-align: right;\">\n",
       "      <th></th>\n",
       "      <th>PAISNACION</th>\n",
       "      <th>UNION</th>\n",
       "      <th>ESTUDIOS</th>\n",
       "      <th>ESTUDRED</th>\n",
       "      <th>SITUACT</th>\n",
       "      <th>SITURED</th>\n",
       "      <th>OCU</th>\n",
       "      <th>JORNADA</th>\n",
       "      <th>INTERINP</th>\n",
       "    </tr>\n",
       "  </thead>\n",
       "  <tbody>\n",
       "    <tr>\n",
       "      <th>count</th>\n",
       "      <td>52148</td>\n",
       "      <td>52148</td>\n",
       "      <td>52148</td>\n",
       "      <td>52148</td>\n",
       "      <td>52148</td>\n",
       "      <td>52148</td>\n",
       "      <td>52148</td>\n",
       "      <td>52148</td>\n",
       "      <td>52148</td>\n",
       "    </tr>\n",
       "    <tr>\n",
       "      <th>unique</th>\n",
       "      <td>4</td>\n",
       "      <td>4</td>\n",
       "      <td>10</td>\n",
       "      <td>6</td>\n",
       "      <td>10</td>\n",
       "      <td>4</td>\n",
       "      <td>4</td>\n",
       "      <td>3</td>\n",
       "      <td>9</td>\n",
       "    </tr>\n",
       "    <tr>\n",
       "      <th>top</th>\n",
       "      <td></td>\n",
       "      <td></td>\n",
       "      <td>3</td>\n",
       "      <td>4</td>\n",
       "      <td>1</td>\n",
       "      <td>1</td>\n",
       "      <td>1</td>\n",
       "      <td></td>\n",
       "      <td></td>\n",
       "    </tr>\n",
       "    <tr>\n",
       "      <th>freq</th>\n",
       "      <td>47414</td>\n",
       "      <td>25098</td>\n",
       "      <td>12566</td>\n",
       "      <td>15386</td>\n",
       "      <td>21317</td>\n",
       "      <td>26348</td>\n",
       "      <td>22425</td>\n",
       "      <td>29723</td>\n",
       "      <td>16695</td>\n",
       "    </tr>\n",
       "  </tbody>\n",
       "</table>\n",
       "</div>"
      ],
      "text/plain": [
       "       PAISNACION  UNION ESTUDIOS ESTUDRED SITUACT SITURED    OCU JORNADA  \\\n",
       "count       52148  52148    52148    52148   52148   52148  52148   52148   \n",
       "unique          4      4       10        6      10       4      4       3   \n",
       "top                             3        4       1       1      1           \n",
       "freq        47414  25098    12566    15386   21317   26348  22425   29723   \n",
       "\n",
       "       INTERINP  \n",
       "count     52148  \n",
       "unique        9  \n",
       "top              \n",
       "freq      16695  "
      ]
     },
     "execution_count": 36,
     "metadata": {},
     "output_type": "execute_result"
    }
   ],
   "source": [
    "# Look at statistics for categorical variables\n",
    "dict_df_EPF_all_memberHouseholds['2022'].describe(include = 'object')"
   ]
  },
  {
   "cell_type": "markdown",
   "metadata": {},
   "source": [
    "#### Observations:\n",
    "The main observations regarding data quality and tidiness are summarized below. Quality issues are divided by table and tidiness issues are presented together for all tables.\n",
    "\n",
    "##### Quality\n",
    "In general the quality of all datasets is good as they were already cleaned by the Statistics Institute. Aditional information on the information saved in the columns was obtained by carefully reading their instruction documents.\n",
    "\n",
    "The required modifications are needed for this specific analisys.\n",
    "\n",
    "###### `dict_df_EPF_all_expenses` DataFrames\n",
    "- A column with the total spendings of each family is needed.\n",
    "- Some columns are not required for the analysis.\n",
    "- Some spending codes out of the origial 360 are not required for the analysis. \n",
    "- Missing values in GASTOMON# columns.\n",
    "- Expenses are weighted spatially and temporarly.\n",
    "\n",
    "\n",
    "###### `dict_df_EPF_all_households` DataFrames\n",
    "- Some columns are not required for the analysis.\n",
    "- There are some null vaues.\n",
    "\n",
    "###### `dict_df_EPF_all_memberHouseholds` DataFrames\n",
    "- Verify if table required for the analysis.\n",
    "\n",
    "In general all column names could be translated to english to make more sense to non-spanish speaking audiences.\n",
    "\n",
    "##### Tidiness\n",
    "- The household number should be the observational unit in  `dict_df_EPF_all_expenses` DataFrames. First, the unrequired codes should be dropped and then the important ones should be turned into columns. This is required to join this table with the rest.\n",
    "- All tables should be merged into one.\n"
   ]
  },
  {
   "cell_type": "markdown",
   "metadata": {},
   "source": [
    "<a id='clea'></a>\n",
    "### Cleaning"
   ]
  },
  {
   "cell_type": "markdown",
   "metadata": {},
   "source": [
    "<p style='text-align: justify;'> The cleaning efforts carried out so as to fix the issues discovered in the previous section, are described herein. </p>"
   ]
  },
  {
   "cell_type": "markdown",
   "metadata": {},
   "source": [
    "###### `dict_df_EPF_all_expenses` DataFrames"
   ]
  },
  {
   "cell_type": "markdown",
   "metadata": {},
   "source": [
    "1. Create column with all expenses per family"
   ]
  },
  {
   "cell_type": "markdown",
   "metadata": {},
   "source": [
    "_Define_"
   ]
  },
  {
   "cell_type": "markdown",
   "metadata": {},
   "source": [
    "The colum with the monetary expenses is named 'GASTOMON' and according to the documentation the value displayed is elevated temporarily (year) and spatially (using the 'FACTOR' column)."
   ]
  },
  {
   "cell_type": "markdown",
   "metadata": {},
   "source": [
    "_Test_"
   ]
  },
  {
   "cell_type": "code",
   "execution_count": 37,
   "metadata": {},
   "outputs": [],
   "source": [
    "# Create two columns with total expenses, one annual and another monthly\n",
    "total_expenses_yearly_list = []\n",
    "total_expenses_monthly_list = []\n",
    "for _year in df_dict_keys:\n",
    "    total_expenses = dict_df_EPF_all_expenses[_year].groupby(\n",
    "        'NUMERO')['GASTOMON'].sum()\n",
    "    total_expenses_monthly = dict_df_EPF_all_expenses[_year].groupby(\n",
    "        'NUMERO')['GASTOMON'].sum().div(12)\n",
    "    total_expenses_yearly_list.append(total_expenses)\n",
    "    total_expenses_monthly_list.append(total_expenses_monthly)\n",
    "total_expenses_year_dict = dict(zip(df_dict_keys, total_expenses_yearly_list))\n",
    "total_expenses_month_dict = dict(zip(df_dict_keys, total_expenses_monthly_list))"
   ]
  },
  {
   "cell_type": "markdown",
   "metadata": {},
   "source": [
    "2. Selection of pertinent columns"
   ]
  },
  {
   "cell_type": "markdown",
   "metadata": {},
   "source": [
    "_Define_"
   ]
  },
  {
   "cell_type": "markdown",
   "metadata": {},
   "source": [
    "From this DataFrame only the following columns are pertinent:  \n",
    "`['ANOENC', 'NUMERO', 'CODIGO', 'GASTOMON', 'FACTOR']`  \n",
    "This will also handle the missing values problem."
   ]
  },
  {
   "cell_type": "markdown",
   "metadata": {},
   "source": [
    "_Code_"
   ]
  },
  {
   "cell_type": "code",
   "execution_count": 38,
   "metadata": {},
   "outputs": [],
   "source": [
    "# Drop unrequired columns\n",
    "columns_expenses = ['ANOENC', 'NUMERO', 'CODIGO', 'GASTOMON', 'FACTOR']\n",
    "for year in df_dict_keys:\n",
    "    dict_df_EPF_all_expenses[year].drop(\n",
    "        dict_df_EPF_all_expenses[year].columns.difference(\n",
    "            columns_expenses), axis = 1, inplace = True) "
   ]
  },
  {
   "cell_type": "markdown",
   "metadata": {},
   "source": [
    "_Test_"
   ]
  },
  {
   "cell_type": "code",
   "execution_count": 39,
   "metadata": {},
   "outputs": [
    {
     "name": "stdout",
     "output_type": "stream",
     "text": [
      "Index(['ANOENC', 'NUMERO', 'CODIGO', 'GASTOMON', 'FACTOR'], dtype='object')\n",
      "Index(['ANOENC', 'NUMERO', 'CODIGO', 'GASTOMON', 'FACTOR'], dtype='object')\n",
      "Index(['ANOENC', 'NUMERO', 'CODIGO', 'GASTOMON', 'FACTOR'], dtype='object')\n",
      "Index(['ANOENC', 'NUMERO', 'CODIGO', 'GASTOMON', 'FACTOR'], dtype='object')\n",
      "Index(['ANOENC', 'NUMERO', 'CODIGO', 'GASTOMON', 'FACTOR'], dtype='object')\n"
     ]
    }
   ],
   "source": [
    "for year in df_dict_keys:\n",
    "    print(dict_df_EPF_all_expenses[year].columns)"
   ]
  },
  {
   "cell_type": "markdown",
   "metadata": {},
   "source": [
    "3. Selection of pertinent consumption expenditures codes"
   ]
  },
  {
   "cell_type": "markdown",
   "metadata": {},
   "source": [
    "_Define_"
   ]
  },
  {
   "cell_type": "markdown",
   "metadata": {},
   "source": [
    "According to the documentation the category that relates to transportation is the ones starting with 07. First it is neccesary to know how many codes start with 07 in all DataFrames, then select the most important ones because these code rows will be later converted to columns and it would be preferable not to have too many columns."
   ]
  },
  {
   "cell_type": "markdown",
   "metadata": {},
   "source": [
    "_Code_"
   ]
  },
  {
   "cell_type": "code",
   "execution_count": 40,
   "metadata": {},
   "outputs": [
    {
     "name": "stdout",
     "output_type": "stream",
     "text": [
      "2018: 32 expenses starting with 07\n",
      "2019: 32 expenses starting with 07\n",
      "2020: 32 expenses starting with 07\n",
      "2021: 31 expenses starting with 07\n",
      "2022: 32 expenses starting with 07\n"
     ]
    }
   ],
   "source": [
    "for year in df_dict_keys:\n",
    "    s_ = pd.Series(dict_df_EPF_all_expenses[year].CODIGO.unique())\n",
    "    count = len(s_[s_.str.startswith('07')].tolist())\n",
    "    print(f'{year}: {count} expenses starting with 07')"
   ]
  },
  {
   "cell_type": "markdown",
   "metadata": {},
   "source": [
    "32 codes are too many to be turned into columns. The most relevant to the analysis will be selected. Some of the codes indicate the use of more ortodox ways of moving such car ownership (electric cars are part of this trend but no code indicated their pruchase), others indicate the use of new mobility trends and active and greener mobiliy options. All these codes refer to urban terrestrial mobility.\n",
    "Out of 32 transportation codes the ones selected are:\n",
    "- 071 - purchase of personal vehicles:\n",
    "    - 07111 - new cars *\n",
    "    - 07112 - used cars *\n",
    "    - 07120 - motorbikes, electric bikes and personal mobility vehicles **\n",
    "    - 07130 - bicycles **\n",
    "- 072 - usage of personal vehicles:\n",
    "    - 07221 - diesel fuel *\n",
    "    - 07222 - gasoline *\n",
    "    - 07223 - alternative fuels or electricity **\n",
    "    - 07244 - driving license acquisition *\n",
    "    - 07245 - mandatory circulation tax *\n",
    "- 073 - Public transportation:\n",
    "    - 07311 - train \n",
    "    - 07313 - subway/metro \n",
    "    - 07321 - bus \n",
    "    - 07322 - combined tickets **\n",
    "    - 07324 - ridehailing, taxis, ridesharing  \n",
    "\n",
    "The ones with * refer to more ortodox mobility and the ones with ** are those\n",
    "newer mobility alternatives."
   ]
  },
  {
   "cell_type": "code",
   "execution_count": 41,
   "metadata": {},
   "outputs": [],
   "source": [
    "codes_mobility = ['07111','07112','07120','07130', '07211','07221',\n",
    "'07222','07223','07244','07245','07311','07313','07321','07322','07324', '07350']"
   ]
  },
  {
   "cell_type": "code",
   "execution_count": 42,
   "metadata": {},
   "outputs": [],
   "source": [
    "# Select codes of interest\n",
    "for year in df_dict_keys:\n",
    "    dict_df_EPF_all_expenses[year] = dict_df_EPF_all_expenses[year].loc[\n",
    "        dict_df_EPF_all_expenses[year]['CODIGO'].isin(codes_mobility)]\n"
   ]
  },
  {
   "cell_type": "markdown",
   "metadata": {},
   "source": [
    "_Test_"
   ]
  },
  {
   "cell_type": "code",
   "execution_count": 43,
   "metadata": {},
   "outputs": [
    {
     "name": "stdout",
     "output_type": "stream",
     "text": [
      "(62817, 5)\n",
      "(61853, 5)\n",
      "(43036, 5)\n",
      "(43442, 5)\n",
      "(45731, 5)\n"
     ]
    }
   ],
   "source": [
    "# Verify reduction in rows\n",
    "for year in df_dict_keys:\n",
    "    print(dict_df_EPF_all_expenses[year].shape)"
   ]
  },
  {
   "cell_type": "markdown",
   "metadata": {},
   "source": [
    "3. Expenses are weighted"
   ]
  },
  {
   "cell_type": "markdown",
   "metadata": {},
   "source": [
    "_Define_"
   ]
  },
  {
   "cell_type": "markdown",
   "metadata": {},
   "source": [
    "- Lastly the monetary expense needs to be divided by the FACTOR and 12 to obtain the monthly expense of that particular family."
   ]
  },
  {
   "cell_type": "markdown",
   "metadata": {},
   "source": [
    "_Code_"
   ]
  },
  {
   "cell_type": "code",
   "execution_count": 44,
   "metadata": {},
   "outputs": [],
   "source": [
    "# Creation of column with monthy expenses\n",
    "for year in df_dict_keys:\n",
    "    dict_df_EPF_all_expenses[year] = dict_df_EPF_all_expenses[year].copy()\n",
    "    dict_df_EPF_all_expenses[year]['Monthly_Expense'] = dict_df_EPF_all_expenses[\n",
    "        year]['GASTOMON'].div(dict_df_EPF_all_expenses[\n",
    "            year]['FACTOR']).div(12)"
   ]
  },
  {
   "cell_type": "markdown",
   "metadata": {},
   "source": [
    "_Test_"
   ]
  },
  {
   "cell_type": "code",
   "execution_count": 45,
   "metadata": {},
   "outputs": [
    {
     "name": "stdout",
     "output_type": "stream",
     "text": [
      "Index(['ANOENC', 'NUMERO', 'CODIGO', 'GASTOMON', 'FACTOR', 'Monthly_Expense'], dtype='object')\n",
      "Index(['ANOENC', 'NUMERO', 'CODIGO', 'GASTOMON', 'FACTOR', 'Monthly_Expense'], dtype='object')\n",
      "Index(['ANOENC', 'NUMERO', 'CODIGO', 'GASTOMON', 'FACTOR', 'Monthly_Expense'], dtype='object')\n",
      "Index(['ANOENC', 'NUMERO', 'CODIGO', 'GASTOMON', 'FACTOR', 'Monthly_Expense'], dtype='object')\n",
      "Index(['ANOENC', 'NUMERO', 'CODIGO', 'GASTOMON', 'FACTOR', 'Monthly_Expense'], dtype='object')\n"
     ]
    }
   ],
   "source": [
    "for year in df_dict_keys:\n",
    "    print(dict_df_EPF_all_expenses[year].columns)"
   ]
  },
  {
   "cell_type": "markdown",
   "metadata": {},
   "source": [
    "##### Tidiness"
   ]
  },
  {
   "cell_type": "markdown",
   "metadata": {},
   "source": [
    "*Define*"
   ]
  },
  {
   "cell_type": "markdown",
   "metadata": {},
   "source": [
    "Change the shape of the table so each household number is an obervational unit. Codes are going to be columns with monthly expense as value. This will use the _pivot_ method."
   ]
  },
  {
   "cell_type": "markdown",
   "metadata": {},
   "source": [
    "*Code*"
   ]
  },
  {
   "cell_type": "code",
   "execution_count": 46,
   "metadata": {},
   "outputs": [
    {
     "name": "stdout",
     "output_type": "stream",
     "text": [
      "18082\n",
      "17527\n",
      "15352\n",
      "15711\n",
      "16809\n"
     ]
    }
   ],
   "source": [
    "# Verify that 'NUMERO' (Number identifier) is unique in all dfs\n",
    "for year in dict_df_EPF_all_expenses.keys():\n",
    "    print(dict_df_EPF_all_expenses[year].NUMERO.nunique())"
   ]
  },
  {
   "cell_type": "code",
   "execution_count": 185,
   "metadata": {},
   "outputs": [],
   "source": [
    "def Reshape_expenses(df:pd.DataFrame, year:str, value:str):\n",
    "    '''\n",
    "    INPUT: \n",
    "    DataFrame - with long format \n",
    "    year -  of the analysis\n",
    "    OUTPUT: \n",
    "    DataFrame - with wide format\n",
    "    \n",
    "    '''\n",
    "    # DataFrame reshape\n",
    "    expenses = df.pivot(\n",
    "        index='NUMERO',columns='CODIGO',values= value)\n",
    "    expenses = expenses.fillna(0)\n",
    "\n",
    "    # Codes name change\n",
    "    df_ = expenses.add_prefix('code_')\n",
    "\n",
    "    # inclusion of ANOENC, FACTOR\n",
    "    df_temp =  df.copy()\n",
    "    df_temp = df_temp.drop_duplicates(subset=['NUMERO'], keep='first')\n",
    "    df_['FACTOR'] = np.where(df_.index == df_temp['NUMERO'], df_temp['FACTOR'], 0)\n",
    "    df_['YEAR'] = int(year)\n",
    "\n",
    "    return df_"
   ]
  },
  {
   "cell_type": "markdown",
   "metadata": {},
   "source": [
    "*Test*"
   ]
  },
  {
   "cell_type": "code",
   "execution_count": 189,
   "metadata": {},
   "outputs": [],
   "source": [
    "# Test function for monthly expenses\n",
    "copy_dict = dict_df_EPF_all_expenses.copy()\n",
    "df_allExpenses_tidy_list = []\n",
    "for year in copy_dict.keys():\n",
    "    new_df = Reshape_expenses(dict_df_EPF_all_expenses[year], year, 'Monthly_Expense')\n",
    "    df_allExpenses_tidy_list.append(new_df)\n",
    "dict_df_allExpenses_tidy = dict(zip(df_dict_keys, df_allExpenses_tidy_list))"
   ]
  },
  {
   "cell_type": "code",
   "execution_count": 188,
   "metadata": {},
   "outputs": [],
   "source": [
    "# Test function for annual expenses\n",
    "copy_dict = dict_df_EPF_all_expenses.copy()\n",
    "df_popExpenses_tidy_list = []\n",
    "for year in copy_dict.keys():\n",
    "    new_df = Reshape_expenses(dict_df_EPF_all_expenses[year], year, 'GASTOMON')\n",
    "    df_popExpenses_tidy_list.append(new_df)\n",
    "dict_df_popExpenses_tidy = dict(zip(df_dict_keys, df_popExpenses_tidy_list))"
   ]
  },
  {
   "cell_type": "markdown",
   "metadata": {},
   "source": [
    "One of these dictionaries holds monthy values, the other spatially and temporarily weighted ones."
   ]
  },
  {
   "cell_type": "code",
   "execution_count": 193,
   "metadata": {},
   "outputs": [
    {
     "name": "stdout",
     "output_type": "stream",
     "text": [
      "0\n",
      "0\n",
      "0\n",
      "0\n",
      "0\n"
     ]
    }
   ],
   "source": [
    "# Verify that every family has a Factor and Number of Families are unique\n",
    "for year in dict_df_allExpenses_tidy.keys():\n",
    "    print(sum(dict_df_allExpenses_tidy[year]['FACTOR'].isnull()))\n"
   ]
  },
  {
   "cell_type": "code",
   "execution_count": 195,
   "metadata": {},
   "outputs": [
    {
     "name": "stdout",
     "output_type": "stream",
     "text": [
      "0\n",
      "0\n",
      "0\n",
      "0\n",
      "0\n"
     ]
    }
   ],
   "source": [
    "# Verify that every family has a Factor and Number of Families are unique\n",
    "for year in dict_df_popExpenses_tidy.keys():\n",
    "    print(sum(dict_df_popExpenses_tidy[year]['FACTOR'].isnull()))"
   ]
  },
  {
   "cell_type": "code",
   "execution_count": 196,
   "metadata": {},
   "outputs": [
    {
     "name": "stdout",
     "output_type": "stream",
     "text": [
      "18082\n",
      "17527\n",
      "15352\n",
      "15711\n",
      "16809\n"
     ]
    }
   ],
   "source": [
    "# Verify that 'NUMERO' (Number identifier) is unique in all dfs\n",
    "for year in dict_df_allExpenses_tidy.keys():\n",
    "    print(dict_df_allExpenses_tidy[year].index.nunique())"
   ]
  },
  {
   "cell_type": "code",
   "execution_count": 197,
   "metadata": {},
   "outputs": [
    {
     "name": "stdout",
     "output_type": "stream",
     "text": [
      "18082\n",
      "17527\n",
      "15352\n",
      "15711\n",
      "16809\n"
     ]
    }
   ],
   "source": [
    "# Verify that 'NUMERO' (Number identifier) is unique in all dfs\n",
    "for year in dict_df_popExpenses_tidy.keys():\n",
    "    print(dict_df_popExpenses_tidy[year].index.nunique())"
   ]
  },
  {
   "cell_type": "markdown",
   "metadata": {},
   "source": [
    "> These values are consistent with the ones before the re-shaping."
   ]
  },
  {
   "cell_type": "code",
   "execution_count": 201,
   "metadata": {},
   "outputs": [],
   "source": [
    "# add columns with total expenses population\n",
    "df_expenses_complete = []\n",
    "for year in df_dict_keys:\n",
    "    df_ = pd.merge(dict_df_popExpenses_tidy[year], total_expenses_year_dict[year], how= 'left', left_index=True, right_index=True)\n",
    "    df_expenses_complete.append(df_)\n",
    "dict_df_popExpenses_all = dict(zip(df_dict_keys, df_expenses_complete))"
   ]
  },
  {
   "cell_type": "code",
   "execution_count": null,
   "metadata": {},
   "outputs": [],
   "source": [
    "# add columns with total expenses\n",
    "df_expenses_complete = []\n",
    "for year in df_dict_keys:\n",
    "    df_ = pd.merge(dict_df_popExpenses_tidy[year], total_expenses_year_dict[year], how= 'left', left_index=True, right_index=True)\n",
    "    df_expenses_complete.append(df_)\n",
    "dict_df_popExpenses_all = dict(zip(df_dict_keys, df_expenses_complete))\n",
    "\n",
    "\n",
    "\n",
    "dict_df_expenses_all"
   ]
  },
  {
   "cell_type": "markdown",
   "metadata": {},
   "source": [
    "###### `dict_df_EPF_all_households` DataFrames"
   ]
  },
  {
   "cell_type": "markdown",
   "metadata": {},
   "source": [
    "2. Selection of pertinent columns"
   ]
  },
  {
   "cell_type": "markdown",
   "metadata": {},
   "source": [
    "_Define_"
   ]
  },
  {
   "cell_type": "markdown",
   "metadata": {},
   "source": [
    "This file contains information on the geographical location of the household, characteristics of the physical house and other houses the members of the family might have and some information on the household's size. Lastly the information of the main provider.\n",
    "After revising the column with household characterization the following columns were found to be useful for the analysis:\n",
    "- ANOENC     - survey year\n",
    "- NUMERO     - family ID\n",
    "- CCAA       - administrative division level 1\n",
    "- CAPROV     - is the house located at the capital of an admin division level 2?\n",
    "- TAMAMU     - size of municipality\n",
    "- DENSIDAD   - population density\n",
    "- FACTOR     - expansion factor\n",
    "- NMIEMB     - number of household members\n",
    "- NMIEM7     - household members younger than 4 years\n",
    "- NMIEM8     - household members younger than 4 year aged 5-15\n",
    "- NMIEM12    - household members aged 65-84\n",
    "- NMIEM13    - members older than 85\n",
    "- EDADSP     - main provider's age\n",
    "- SEXOSP     - main provider's gender\n",
    "- ESTUDIOSSP - main provider's completed education\n",
    "- IMPEXAC    - household's net income"
   ]
  },
  {
   "cell_type": "markdown",
   "metadata": {},
   "source": [
    "_Code_"
   ]
  },
  {
   "cell_type": "code",
   "execution_count": 52,
   "metadata": {},
   "outputs": [],
   "source": [
    "# Create list with columns to keep\n",
    "columns_household_keep = ['ANOENC', 'NUMERO', 'CCAA', 'CAPROV', 'TAMAMU', \n",
    "        'DENSIDAD', 'FACTOR',  'NMIEMB',  'NMIEM7',  'NMIEM8',\n",
    "        'NMIEM12',  'NMIEM13',  'EDADSP',  'SEXOSP', 'ESTUDIOSSP',  'IMPEXAC']\n",
    "\n",
    "# Drop columns\n",
    "for year in df_dict_keys:\n",
    "    dict_df_EPF_all_households[year].drop(\n",
    "        dict_df_EPF_all_households[year].columns.difference(\n",
    "            columns_household_keep), axis = 1, inplace = True) "
   ]
  },
  {
   "cell_type": "markdown",
   "metadata": {},
   "source": [
    "_Test_"
   ]
  },
  {
   "cell_type": "code",
   "execution_count": 53,
   "metadata": {},
   "outputs": [
    {
     "name": "stdout",
     "output_type": "stream",
     "text": [
      "Index(['ANOENC', 'NUMERO', 'CCAA', 'CAPROV', 'TAMAMU', 'DENSIDAD', 'FACTOR',\n",
      "       'NMIEMB', 'NMIEM7', 'NMIEM8', 'NMIEM12', 'NMIEM13', 'EDADSP', 'SEXOSP',\n",
      "       'ESTUDIOSSP', 'IMPEXAC'],\n",
      "      dtype='object')\n",
      "Index(['ANOENC', 'NUMERO', 'CCAA', 'CAPROV', 'TAMAMU', 'DENSIDAD', 'FACTOR',\n",
      "       'NMIEMB', 'NMIEM7', 'NMIEM8', 'NMIEM12', 'NMIEM13', 'EDADSP', 'SEXOSP',\n",
      "       'ESTUDIOSSP', 'IMPEXAC'],\n",
      "      dtype='object')\n",
      "Index(['ANOENC', 'NUMERO', 'CCAA', 'CAPROV', 'TAMAMU', 'DENSIDAD', 'FACTOR',\n",
      "       'NMIEMB', 'NMIEM7', 'NMIEM8', 'NMIEM12', 'NMIEM13', 'EDADSP', 'SEXOSP',\n",
      "       'ESTUDIOSSP', 'IMPEXAC'],\n",
      "      dtype='object')\n",
      "Index(['ANOENC', 'NUMERO', 'CCAA', 'CAPROV', 'TAMAMU', 'DENSIDAD', 'FACTOR',\n",
      "       'NMIEMB', 'NMIEM7', 'NMIEM8', 'NMIEM12', 'NMIEM13', 'EDADSP', 'SEXOSP',\n",
      "       'ESTUDIOSSP', 'IMPEXAC'],\n",
      "      dtype='object')\n",
      "Index(['ANOENC', 'NUMERO', 'CCAA', 'CAPROV', 'TAMAMU', 'DENSIDAD', 'FACTOR',\n",
      "       'NMIEMB', 'NMIEM7', 'NMIEM8', 'NMIEM12', 'NMIEM13', 'EDADSP', 'SEXOSP',\n",
      "       'ESTUDIOSSP', 'IMPEXAC'],\n",
      "      dtype='object')\n"
     ]
    }
   ],
   "source": [
    "# Look at columns\n",
    "for year in df_dict_keys:\n",
    "    print(dict_df_EPF_all_households[year].columns)"
   ]
  },
  {
   "cell_type": "markdown",
   "metadata": {},
   "source": [
    "2. Null values"
   ]
  },
  {
   "cell_type": "markdown",
   "metadata": {},
   "source": [
    "_Define_"
   ]
  },
  {
   "cell_type": "markdown",
   "metadata": {},
   "source": [
    "Verify if some columns have null values. If so replacing them with zero would modify original statistics."
   ]
  },
  {
   "cell_type": "markdown",
   "metadata": {},
   "source": [
    "_Code_"
   ]
  },
  {
   "cell_type": "code",
   "execution_count": 54,
   "metadata": {},
   "outputs": [
    {
     "name": "stdout",
     "output_type": "stream",
     "text": [
      "0\n",
      "0\n",
      "0\n",
      "0\n",
      "0\n"
     ]
    }
   ],
   "source": [
    "# Look at null values\n",
    "for year in df_dict_keys:\n",
    "    print(dict_df_EPF_all_households['2019'].isnull().sum().sum())"
   ]
  },
  {
   "cell_type": "markdown",
   "metadata": {},
   "source": [
    "_Test_"
   ]
  },
  {
   "cell_type": "markdown",
   "metadata": {},
   "source": [
    "Seems like the columns holding null values were removed."
   ]
  },
  {
   "cell_type": "markdown",
   "metadata": {},
   "source": [
    "###### `dict_df_EPF_all_memberHouseholds` DataFrames"
   ]
  },
  {
   "cell_type": "markdown",
   "metadata": {},
   "source": [
    "After revising the table it was decided that for this analysis they will be not required."
   ]
  },
  {
   "cell_type": "markdown",
   "metadata": {},
   "source": [
    "##### Overall Tidiness"
   ]
  },
  {
   "cell_type": "markdown",
   "metadata": {},
   "source": [
    "_Define_"
   ]
  },
  {
   "cell_type": "markdown",
   "metadata": {},
   "source": [
    "- Merge expenses and household information tables"
   ]
  },
  {
   "cell_type": "markdown",
   "metadata": {},
   "source": [
    "_Code_"
   ]
  },
  {
   "cell_type": "code",
   "execution_count": 55,
   "metadata": {},
   "outputs": [],
   "source": [
    "# merge data_frames\n",
    "df_all = []\n",
    "for year in df_dict_keys:\n",
    "    df_ = pd.merge(dict_df_expenses_all[year], dict_df_EPF_all_households[year], how= 'left', on = 'NUMERO')\n",
    "    df_all.append(df_)\n",
    "dict_df_HBS = dict(zip(df_dict_keys, df_all))"
   ]
  },
  {
   "cell_type": "markdown",
   "metadata": {},
   "source": [
    "_Test_"
   ]
  },
  {
   "cell_type": "code",
   "execution_count": 56,
   "metadata": {},
   "outputs": [
    {
     "name": "stdout",
     "output_type": "stream",
     "text": [
      "2018 has 18082 families and 35 variables describing them\n",
      "2019 has 17527 families and 35 variables describing them\n",
      "2020 has 15352 families and 35 variables describing them\n",
      "2021 has 15711 families and 35 variables describing them\n",
      "2022 has 16809 families and 35 variables describing them\n"
     ]
    }
   ],
   "source": [
    "# Look at shape\n",
    "for year in df_dict_keys:\n",
    "    print(f'{year} has {dict_df_HBS[year].shape[0]} families and {dict_df_HBS[year].shape[1]} variables describing them')"
   ]
  },
  {
   "cell_type": "code",
   "execution_count": 175,
   "metadata": {},
   "outputs": [
    {
     "data": {
      "text/plain": [
       "0        1336.933333\n",
       "1           0.000000\n",
       "2           0.000000\n",
       "3           0.000000\n",
       "4           0.000000\n",
       "            ...     \n",
       "17522     166.666667\n",
       "17523       0.000000\n",
       "17524       0.000000\n",
       "17525       0.000000\n",
       "17526       0.000000\n",
       "Name: code_07111, Length: 17527, dtype: float64"
      ]
     },
     "execution_count": 175,
     "metadata": {},
     "output_type": "execute_result"
    }
   ],
   "source": [
    "dict_df_HBS['2019'].code_07111"
   ]
  },
  {
   "cell_type": "markdown",
   "metadata": {},
   "source": [
    "<a id='eda'></a>\n",
    "### Data Analysis"
   ]
  },
  {
   "cell_type": "markdown",
   "metadata": {},
   "source": [
    "The columns required to answer the questions of interest were selected in the previous step.  "
   ]
  },
  {
   "cell_type": "markdown",
   "metadata": {},
   "source": [
    "The first step will be checking what percentage of the total spending is the transportation. This will be done by getting the porportion of transporatation expenses with total expenses."
   ]
  },
  {
   "cell_type": "code",
   "execution_count": 158,
   "metadata": {},
   "outputs": [],
   "source": [
    "# total spendings on transportation\n",
    "transport_codes = ['code_07111', 'code_07112', 'code_07120', 'code_07130',\n",
    "       'code_07211', 'code_07221', 'code_07222', 'code_07223', 'code_07244',\n",
    "       'code_07245', 'code_07311', 'code_07313', 'code_07321', 'code_07322',\n",
    "       'code_07324', 'code_07350']"
   ]
  },
  {
   "cell_type": "code",
   "execution_count": 165,
   "metadata": {},
   "outputs": [
    {
     "data": {
      "text/plain": [
       "[0.0017166937093001805,\n",
       " 0.0016814808791473154,\n",
       " 0.001352428915764479,\n",
       " 0.0014158190933960945,\n",
       " 0.0016409239234281934]"
      ]
     },
     "execution_count": 165,
     "metadata": {},
     "output_type": "execute_result"
    }
   ],
   "source": [
    "percentage_yearly"
   ]
  },
  {
   "cell_type": "markdown",
   "metadata": {},
   "source": [
    "#### 1. Have there been significant changes in ownership in the last five years?"
   ]
  },
  {
   "cell_type": "markdown",
   "metadata": {},
   "source": [
    "The variables that could answer these questions are those related to the purchase of private vehicles. On the one hand it could be interesting to see if the ammount spent on purchasing new private cars has changed over the last 5 eyars. On the other hand, it could be interesting to look at spendings on traditional vs alternative fuels.\n",
    "These purchases can also be affected by inflation and other economical factors but these will be not considered in this analysis."
   ]
  },
  {
   "cell_type": "markdown",
   "metadata": {},
   "source": [
    "_1.1 Exploration of private car purchases_"
   ]
  },
  {
   "cell_type": "markdown",
   "metadata": {},
   "source": [
    "**Visual inspection**"
   ]
  },
  {
   "cell_type": "code",
   "execution_count": 57,
   "metadata": {},
   "outputs": [
    {
     "data": {
      "image/png": "[encoded data removed]",
      "text/plain": [
       "<Figure size 640x480 with 1 Axes>"
      ]
     },
     "metadata": {},
     "output_type": "display_data"
    }
   ],
   "source": [
    "# Look at Expenditures distribution\n",
    "dict_df_HBS['2018']['GASTOMON'].hist();"
   ]
  },
  {
   "cell_type": "code",
   "execution_count": 58,
   "metadata": {},
   "outputs": [
    {
     "data": {
      "image/png": "[encoded data removed]",
      "text/plain": [
       "<Figure size 640x480 with 1 Axes>"
      ]
     },
     "metadata": {},
     "output_type": "display_data"
    }
   ],
   "source": [
    "# Check distribution of purchases\n",
    "dict_df_HBS['2022']['code_07111'].hist();"
   ]
  },
  {
   "cell_type": "markdown",
   "metadata": {},
   "source": [
    "> All expenses and purchase of cars show left skewed distribution with the  majority of households from the sample not spending or spending little."
   ]
  },
  {
   "cell_type": "code",
   "execution_count": 126,
   "metadata": {},
   "outputs": [],
   "source": [
    "def GetExpenses(dict_:dict, years:list, codeList:list, Factor:str):\n",
    "        '''\n",
    "        INPUT: \n",
    "        dict_- Dictionary with DataFrames\n",
    "        years - list of years to analize\n",
    "        codeList - list with codes to be added\n",
    "        Factor - spatial weight\n",
    "\n",
    "\n",
    "        OUTPUT: \n",
    "        series expensesof anual expenses (multiplied by 12) \n",
    "        for whole population (multiplied by factor).\n",
    "        '''\n",
    "        # creation of series\n",
    "        total_expenses_list = []\n",
    "        for year in years:\n",
    "                total_expense_year = 0\n",
    "                if len(codeList) == 1:\n",
    "                        anual_expense1 = (dict_[year][codeList[0]]* 12)*(\n",
    "                                dict_[year][Factor])\n",
    "                        total_expense_year = anual_expense1.sum()\n",
    "                        total_expenses_list.append(total_expense_year)\n",
    "                else:\n",
    "                        for i in range(len(codeList)):\n",
    "                                anual_expense1 = (dict_[year][codeList[i]]* 12)*(\n",
    "                                        dict_[year][Factor])\n",
    "                                total_expense_1 = anual_expense1.sum()\n",
    "                                total_expense_year += total_expense_1\n",
    "                        total_expenses_list.append(total_expense_year)\n",
    "        print(total_expenses_list)\n",
    "        colors = ['#7fc97f', '#beaed4', '#fdc086','#386cb0']\n",
    "        plt.bar(years,total_expenses_list, color = random.choice(colors));\n",
    "        return total_expenses_list"
   ]
  },
  {
   "cell_type": "code",
   "execution_count": 127,
   "metadata": {},
   "outputs": [
    {
     "name": "stdout",
     "output_type": "stream",
     "text": [
      "[21045368607.239998, 23105188648.899998, 17177735689.48, 18691055897.22, 19989635903.269997]\n"
     ]
    },
    {
     "data": {
      "image/png": "[encoded data removed]",
      "text/plain": [
       "<Figure size 640x480 with 1 Axes>"
      ]
     },
     "metadata": {},
     "output_type": "display_data"
    }
   ],
   "source": [
    "code_list_car_purchase = ['code_07111', 'code_07112']\n",
    "total_expenses_privateCar = GetExpenses(dict_df_HBS, dict_df_HBS.keys(), \n",
    "                                        code_list, 'FACTOR_y')"
   ]
  },
  {
   "cell_type": "code",
   "execution_count": 114,
   "metadata": {},
   "outputs": [
    {
     "data": {
      "text/plain": [
       "19989635903.27"
      ]
     },
     "execution_count": 114,
     "metadata": {},
     "output_type": "execute_result"
    }
   ],
   "source": [
    "# Test function\n",
    "expenses = dict_df_EPF_all_expenses['2018'][dict_df_EPF_all_expenses['2018']['CODIGO'] == '07111']\n",
    "expenses_ = dict_df_EPF_all_expenses['2018'][dict_df_EPF_all_expenses['2018']['CODIGO'] == '07112']\n",
    "x = expenses.GASTOMON.sum()\n",
    "y = expenses_.GASTOMON.sum()\n",
    "x+y\n",
    "\n",
    "expenses = dict_df_EPF_all_expenses['2022'][dict_df_EPF_all_expenses['2022']['CODIGO'] == '07111']\n",
    "expenses_ = dict_df_EPF_all_expenses['2022'][dict_df_EPF_all_expenses['2022']['CODIGO'] == '07112']\n",
    "x = expenses.GASTOMON.sum()\n",
    "y = expenses_.GASTOMON.sum()\n",
    "x+y"
   ]
  },
  {
   "cell_type": "markdown",
   "metadata": {},
   "source": [
    "From the visual inspecion one cannot tell that expenditures on private cars are decreasing. On the contrary, the amount spent was rising before COVID-19 dropped then and now are on another raising trend. It is true that this displays the amount spent not the number of cars purchased."
   ]
  },
  {
   "cell_type": "markdown",
   "metadata": {},
   "source": [
    "**Statistical Comparison**"
   ]
  },
  {
   "cell_type": "markdown",
   "metadata": {},
   "source": [
    "The samples from different years will be compared testing the following hypothesis:  \n",
    "H<sub>o</sub> = samples belongs to same population  \n",
    "H<sub>1</sub> = samples do not belong to same population  \n",
    "\n",
    "As the expenditures are not normally distributed (shown in the histograms) the test employed to check their differences is the H-test.  \n",
    "`The Kruskal-Wallis H-test tests the null hypothesis that the population median of all of the groups are equal. It is a non-parametric version of ANOVA. The test works on 2 or more independent samples, which may have different sizes.`"
   ]
  },
  {
   "cell_type": "code",
   "execution_count": 141,
   "metadata": {},
   "outputs": [
    {
     "data": {
      "text/plain": [
       "KruskalResult(statistic=125.07530002178086, pvalue=4.3981986118945517e-26)"
      ]
     },
     "execution_count": 141,
     "metadata": {},
     "output_type": "execute_result"
    }
   ],
   "source": [
    "# Test car purchases\n",
    "stats.kruskal(dict_df_HBS['2018']['code_07111']+ dict_df_HBS['2018']['code_07112'], \n",
    "              dict_df_HBS['2019']['code_07111']+ dict_df_HBS['2019']['code_07112'], \n",
    "              dict_df_HBS['2020']['code_07111']+ dict_df_HBS['2020']['code_07112'], \n",
    "              dict_df_HBS['2021']['code_07111']+ dict_df_HBS['2021']['code_07112'], \n",
    "              dict_df_HBS['2022']['code_07111']+ dict_df_HBS['2022']['code_07112'])"
   ]
  },
  {
   "cell_type": "markdown",
   "metadata": {},
   "source": [
    "The output shows that the test statistic is 125.075 and the corresponding p-value is 4.3981986118945517e-26 (close to 0).  \n",
    "Since the p-value is less than 0.05, we reject the null hypothesis of the H test.  \n",
    "The tests sugest differences in the purchases of cars over the years but these differences cannot be attributed to the arrival of new mobility ways."
   ]
  },
  {
   "cell_type": "markdown",
   "metadata": {},
   "source": [
    "_1.2 Exploration of traditional fuel and alternative fuels spendings_"
   ]
  },
  {
   "cell_type": "markdown",
   "metadata": {},
   "source": [
    "**Visual inspection**"
   ]
  },
  {
   "cell_type": "code",
   "execution_count": 138,
   "metadata": {},
   "outputs": [
    {
     "name": "stdout",
     "output_type": "stream",
     "text": [
      "[23562759126.910004, 23852994414.940002, 16166396462.05, 20925365048.08, 27012945039.670002]\n"
     ]
    },
    {
     "data": {
      "image/png": "[encoded data removed]",
      "text/plain": [
       "<Figure size 640x480 with 1 Axes>"
      ]
     },
     "metadata": {},
     "output_type": "display_data"
    }
   ],
   "source": [
    "# Traditional fuel expenditure\n",
    "code_list_fuel = ['code_07221', 'code_07222']\n",
    "total_expenses_fuel = GetExpenses(dict_df_HBS, dict_df_HBS.keys(), \n",
    "                                        code_list_fuel, 'FACTOR_y')"
   ]
  },
  {
   "cell_type": "markdown",
   "metadata": {},
   "source": [
    "Same as with car purchases but more homogeneous between 2018 and 2019. Rising trend before and after COVID-19 but different in magnitudes."
   ]
  },
  {
   "cell_type": "code",
   "execution_count": 137,
   "metadata": {},
   "outputs": [
    {
     "name": "stdout",
     "output_type": "stream",
     "text": [
      "[17491495.34, 14587018.91, 33094679.630000003, 34270898.09, 50878726.39]\n"
     ]
    },
    {
     "data": {
      "image/png": "[encoded data removed]",
      "text/plain": [
       "<Figure size 640x480 with 1 Axes>"
      ]
     },
     "metadata": {},
     "output_type": "display_data"
    }
   ],
   "source": [
    "# Alternative fuels\n",
    "code_list_alternative = ['code_07223']\n",
    "total_expenses_altFuel = GetExpenses(dict_df_HBS, dict_df_HBS.keys(), \n",
    "                                        code_list_alternative, 'FACTOR_y')"
   ]
  },
  {
   "cell_type": "markdown",
   "metadata": {},
   "source": [
    "This shows a different history. This plot shows an increase in the purchase of alternative fuels over the years.  \n",
    "Inflation also plays a huge rol here.\n",
    "It is important to notice that the fuel spending is around 1x10^<sup>10</sup> and alternative fuel spending 1x10<sup>7</sup> ."
   ]
  },
  {
   "cell_type": "markdown",
   "metadata": {},
   "source": [
    "*1.3 Driving licences and private vehicle circulatory tax spendings*"
   ]
  },
  {
   "cell_type": "markdown",
   "metadata": {},
   "source": [
    "**Visual inspection**"
   ]
  },
  {
   "cell_type": "code",
   "execution_count": 139,
   "metadata": {},
   "outputs": [
    {
     "name": "stdout",
     "output_type": "stream",
     "text": [
      "[873234738.3199999, 1002134778.8400002, 772427439.6199999, 1016163116.28, 951832964.51]\n"
     ]
    },
    {
     "data": {
      "image/png": "[encoded data removed]",
      "text/plain": [
       "<Figure size 640x480 with 1 Axes>"
      ]
     },
     "metadata": {},
     "output_type": "display_data"
    }
   ],
   "source": [
    "# Driving license \n",
    "code_list_driving = ['code_07244']\n",
    "total_expenses_drivngLicence = GetExpenses(dict_df_HBS, dict_df_HBS.keys(), \n",
    "                                        code_list_driving, 'FACTOR_y')"
   ]
  },
  {
   "cell_type": "markdown",
   "metadata": {},
   "source": [
    "This one shows rising tendency before covid then up in 2021 and could seem as if it was decreasing."
   ]
  },
  {
   "cell_type": "code",
   "execution_count": 140,
   "metadata": {},
   "outputs": [
    {
     "name": "stdout",
     "output_type": "stream",
     "text": [
      "[640135606.5400001, 648682078.17, 626279699.26, 672186639.6999999, 705255389.7299999]\n"
     ]
    },
    {
     "data": {
      "image/png": "[encoded data removed]",
      "text/plain": [
       "<Figure size 640x480 with 1 Axes>"
      ]
     },
     "metadata": {},
     "output_type": "display_data"
    }
   ],
   "source": [
    "# Circulatory tax\n",
    "code_list_ITV = ['code_07245']\n",
    "total_expenses_ITV = GetExpenses(dict_df_HBS, dict_df_HBS.keys(), \n",
    "                                        code_list_ITV, 'FACTOR_y')"
   ]
  },
  {
   "cell_type": "markdown",
   "metadata": {},
   "source": [
    "**Statistical Comparison**"
   ]
  },
  {
   "cell_type": "code",
   "execution_count": 142,
   "metadata": {},
   "outputs": [
    {
     "data": {
      "text/plain": [
       "KruskalResult(statistic=200.5711956453368, pvalue=2.8318219715746434e-42)"
      ]
     },
     "execution_count": 142,
     "metadata": {},
     "output_type": "execute_result"
    }
   ],
   "source": [
    "# Test driving licences\n",
    "stats.kruskal(dict_df_HBS['2018']['code_07244'], dict_df_HBS['2019']['code_07244'], dict_df_HBS['2020']['code_07244'], dict_df_HBS['2021']['code_07244'], dict_df_HBS['2022']['code_07244'])"
   ]
  },
  {
   "cell_type": "markdown",
   "metadata": {},
   "source": [
    "The output shows that the test statistic is 200.57 and the corresponding p-value is 7.56028150286148e-24 (close to 0).  \n",
    "Since the p-value is less than .05, we reject the null hypothesis of the H test.  \n",
    "The tests sugest differences in the obtention of driving licenses over the years but these differences cannot be attributed to the arrival of new mobility ways."
   ]
  },
  {
   "cell_type": "markdown",
   "metadata": {},
   "source": [
    "#### 2. Are Personal Mobility Vehicles purchases on a rise?"
   ]
  },
  {
   "cell_type": "markdown",
   "metadata": {},
   "source": [
    "_2.1 Exploration of personal mobility vehicles purchases_"
   ]
  },
  {
   "cell_type": "markdown",
   "metadata": {},
   "source": [
    "**Visual inspection**"
   ]
  },
  {
   "cell_type": "code",
   "execution_count": 143,
   "metadata": {},
   "outputs": [
    {
     "name": "stdout",
     "output_type": "stream",
     "text": [
      "[1086993492.8500001, 1676430003.53, 1211877694.85, 1473865811.06, 1551879649.73]\n"
     ]
    },
    {
     "data": {
      "image/png": "[encoded data removed]",
      "text/plain": [
       "<Figure size 640x480 with 1 Axes>"
      ]
     },
     "metadata": {},
     "output_type": "display_data"
    }
   ],
   "source": [
    "# Plot personal mobility purchases\n",
    "code_list_PMV = ['code_07120', 'code_07130']\n",
    "total_expenses_PMV = GetExpenses(dict_df_HBS, dict_df_HBS.keys(), \n",
    "                                        code_list_PMV, 'FACTOR_y')"
   ]
  },
  {
   "cell_type": "markdown",
   "metadata": {},
   "source": [
    "Personal mobility vehicles display also the same tendencies: steep rising trend before 2020. Fall in 2020 and another rising period since COVID-19. The steep rise in the purchases of PTV from 2018 to 2019 seems proportionaly higher than the steep increase in car purchases from 2018 to 2019."
   ]
  },
  {
   "cell_type": "markdown",
   "metadata": {},
   "source": [
    "#### 3. Are combined public transportation tickets and shared options on the rise?"
   ]
  },
  {
   "cell_type": "markdown",
   "metadata": {},
   "source": [
    "_3.1 Exploration of public transportation individual and combined tickets_"
   ]
  },
  {
   "cell_type": "code",
   "execution_count": 147,
   "metadata": {},
   "outputs": [
    {
     "name": "stdout",
     "output_type": "stream",
     "text": [
      "[1203363424.53, 1138884456.42, 552074697.21, 645311742.3, 749966903.99]\n"
     ]
    },
    {
     "data": {
      "image/png": "[encoded data removed]",
      "text/plain": [
       "<Figure size 640x480 with 1 Axes>"
      ]
     },
     "metadata": {},
     "output_type": "display_data"
    }
   ],
   "source": [
    "# Plot public transportation spendings (individual usage)\n",
    "code_list_PT = ['code_07311', 'code_07313', 'code_07321']\n",
    "total_expenses_urbanPT = GetExpenses(dict_df_HBS, dict_df_HBS.keys(), \n",
    "                                        code_list_PT, 'FACTOR_y')"
   ]
  },
  {
   "cell_type": "code",
   "execution_count": 148,
   "metadata": {},
   "outputs": [
    {
     "name": "stdout",
     "output_type": "stream",
     "text": [
      "[483198277.36, 493270226.8, 227503469.82999998, 275975219.15, 349595938.34000003]\n"
     ]
    },
    {
     "data": {
      "image/png": "[encoded data removed]",
      "text/plain": [
       "<Figure size 640x480 with 1 Axes>"
      ]
     },
     "metadata": {},
     "output_type": "display_data"
    }
   ],
   "source": [
    "# Plot public transportation spendings (combined usage)\n",
    "code_list_cPT = ['code_07322']\n",
    "total_expenses_combinedPT = GetExpenses(dict_df_HBS, dict_df_HBS.keys(), \n",
    "                                        code_list_cPT, 'FACTOR_y')"
   ]
  },
  {
   "cell_type": "markdown",
   "metadata": {},
   "source": [
    "_3.2 Exploratin of shared mobility options expenditures_"
   ]
  },
  {
   "cell_type": "code",
   "execution_count": 149,
   "metadata": {},
   "outputs": [
    {
     "name": "stdout",
     "output_type": "stream",
     "text": [
      "[721998117.8100001, 707370371.39, 424022576.96, 512416811.13, 577938142.9399999]\n"
     ]
    },
    {
     "data": {
      "image/png": "[encoded data removed]",
      "text/plain": [
       "<Figure size 640x480 with 1 Axes>"
      ]
     },
     "metadata": {},
     "output_type": "display_data"
    }
   ],
   "source": [
    "# Plot shared mobility expenditures\n",
    "code_list_Shared = ['code_07324']\n",
    "total_expenses_sharedMobility = GetExpenses(dict_df_HBS, dict_df_HBS.keys(), \n",
    "                                        code_list_Shared, 'FACTOR_y')"
   ]
  },
  {
   "cell_type": "markdown",
   "metadata": {},
   "source": [
    "#### 4. What variables correlate well with car-oriented mobility?"
   ]
  },
  {
   "cell_type": "code",
   "execution_count": null,
   "metadata": {},
   "outputs": [],
   "source": []
  },
  {
   "cell_type": "markdown",
   "metadata": {},
   "source": [
    "<a id='result'></a>\n",
    "## 5. Result Evaluation"
   ]
  },
  {
   "cell_type": "markdown",
   "metadata": {},
   "source": [
    "<a id='conclusions'></a>\n",
    "## 6. Conclusions"
   ]
  },
  {
   "cell_type": "markdown",
   "metadata": {},
   "source": [
    "<a id='Refere'></a>\n",
    "## 7. References"
   ]
  }
 ],
 "metadata": {
  "kernelspec": {
   "display_name": "base",
   "language": "python",
   "name": "python3"
  },
  "language_info": {
   "codemirror_mode": {
    "name": "ipython",
    "version": 3
   },
   "file_extension": ".py",
   "mimetype": "text/x-python",
   "name": "python",
   "nbconvert_exporter": "python",
   "pygments_lexer": "ipython3",
   "version": "3.10.10"
  },
  "orig_nbformat": 4
 },
 "nbformat": 4,
 "nbformat_minor": 2
}
